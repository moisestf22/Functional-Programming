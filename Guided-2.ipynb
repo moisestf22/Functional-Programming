{
 "cells": [
  {
   "cell_type": "markdown",
   "id": "dec3bd1b",
   "metadata": {},
   "source": [
    "# Guided exercise 2: Sections, guards and patterns\n",
    "\n",
    "# Function's types\n",
    "\n",
    "As we saw last week in Haskell everything has a type, which cannot be changed. Functions do always have a type, if we do not specify it, it will be automatically inferred.\n",
    "\n",
    "The type of a fuction can be specified explicitly by:\n",
    "\n",
    "* If the type is a basic type (like `Int`, `Integer`, `Float`, etc.): `nameOfFunction:: Type1 -> Type2 -> Type3 .. -> ResultType`\n",
    "* If the type is a type class (like `Num`, `Integral`, `Ord`, `Eq`, `Fractional`, etc.):  `(Type1 a1, Type2 a2) => a1 -> a1 -> a1 -> a2`\n"
   ]
  },
  {
   "cell_type": "code",
   "execution_count": 2,
   "id": "abe690ee",
   "metadata": {},
   "outputs": [
    {
     "data": {
      "text/html": [
       "<style>/* Styles used for the Hoogle display in the pager */\n",
       ".hoogle-doc {\n",
       "display: block;\n",
       "padding-bottom: 1.3em;\n",
       "padding-left: 0.4em;\n",
       "}\n",
       ".hoogle-code {\n",
       "display: block;\n",
       "font-family: monospace;\n",
       "white-space: pre;\n",
       "}\n",
       ".hoogle-text {\n",
       "display: block;\n",
       "}\n",
       ".hoogle-name {\n",
       "color: green;\n",
       "font-weight: bold;\n",
       "}\n",
       ".hoogle-head {\n",
       "font-weight: bold;\n",
       "}\n",
       ".hoogle-sub {\n",
       "display: block;\n",
       "margin-left: 0.4em;\n",
       "}\n",
       ".hoogle-package {\n",
       "font-weight: bold;\n",
       "font-style: italic;\n",
       "}\n",
       ".hoogle-module {\n",
       "font-weight: bold;\n",
       "}\n",
       ".hoogle-class {\n",
       "font-weight: bold;\n",
       "}\n",
       "\n",
       ".get-type {\n",
       "color: green;\n",
       "font-weight: bold;\n",
       "font-family: monospace;\n",
       "display: block;\n",
       "white-space: pre-wrap;\n",
       "}\n",
       ".show-type {\n",
       "color: green;\n",
       "font-weight: bold;\n",
       "font-family: monospace;\n",
       "margin-left: 1em;\n",
       "}\n",
       ".mono {\n",
       "font-family: monospace;\n",
       "display: block;\n",
       "}\n",
       ".err-msg {\n",
       "color: red;\n",
       "font-style: italic;\n",
       "font-family: monospace;\n",
       "white-space: pre;\n",
       "display: block;\n",
       "}\n",
       "#unshowable {\n",
       "color: red;\n",
       "font-weight: bold;\n",
       "}\n",
       ".err-msg.in.collapse {\n",
       "padding-top: 0.7em;\n",
       "}\n",
       "\n",
       ".highlight-code {\n",
       "white-space: pre;\n",
       "font-family: monospace;\n",
       "}\n",
       "\n",
       ".suggestion-warning { \n",
       "font-weight: bold;\n",
       "color: rgb(200, 130, 0);\n",
       "}\n",
       ".suggestion-error { \n",
       "font-weight: bold;\n",
       "color: red;\n",
       "}\n",
       ".suggestion-name {\n",
       "font-weight: bold;\n",
       "}\n",
       "\n",
       "</style><span class='get-type'>addTwo :: forall {a}. Num a => a -> a</span>"
      ],
      "text/plain": [
       "addTwo :: forall {a}. Num a => a -> a"
      ]
     },
     "metadata": {},
     "output_type": "display_data"
    },
    {
     "data": {
      "text/plain": [
       "5"
      ]
     },
     "metadata": {},
     "output_type": "display_data"
    },
    {
     "data": {
      "text/plain": [
       "5.0"
      ]
     },
     "metadata": {},
     "output_type": "display_data"
    }
   ],
   "source": [
    "addTwo x = x + 2\n",
    "-- + can be used with Num and 2 is also Num, so the type is Num a => a -> a\n",
    "-- this means: this function receives a Num and returns a Num\n",
    ":t addTwo\n",
    "addTwo 3\n",
    "addTwo 3.0"
   ]
  },
  {
   "cell_type": "code",
   "execution_count": 3,
   "id": "753192f7",
   "metadata": {},
   "outputs": [
    {
     "data": {
      "text/html": [
       "<style>/* Styles used for the Hoogle display in the pager */\n",
       ".hoogle-doc {\n",
       "display: block;\n",
       "padding-bottom: 1.3em;\n",
       "padding-left: 0.4em;\n",
       "}\n",
       ".hoogle-code {\n",
       "display: block;\n",
       "font-family: monospace;\n",
       "white-space: pre;\n",
       "}\n",
       ".hoogle-text {\n",
       "display: block;\n",
       "}\n",
       ".hoogle-name {\n",
       "color: green;\n",
       "font-weight: bold;\n",
       "}\n",
       ".hoogle-head {\n",
       "font-weight: bold;\n",
       "}\n",
       ".hoogle-sub {\n",
       "display: block;\n",
       "margin-left: 0.4em;\n",
       "}\n",
       ".hoogle-package {\n",
       "font-weight: bold;\n",
       "font-style: italic;\n",
       "}\n",
       ".hoogle-module {\n",
       "font-weight: bold;\n",
       "}\n",
       ".hoogle-class {\n",
       "font-weight: bold;\n",
       "}\n",
       "\n",
       ".get-type {\n",
       "color: green;\n",
       "font-weight: bold;\n",
       "font-family: monospace;\n",
       "display: block;\n",
       "white-space: pre-wrap;\n",
       "}\n",
       ".show-type {\n",
       "color: green;\n",
       "font-weight: bold;\n",
       "font-family: monospace;\n",
       "margin-left: 1em;\n",
       "}\n",
       ".mono {\n",
       "font-family: monospace;\n",
       "display: block;\n",
       "}\n",
       ".err-msg {\n",
       "color: red;\n",
       "font-style: italic;\n",
       "font-family: monospace;\n",
       "white-space: pre;\n",
       "display: block;\n",
       "}\n",
       "#unshowable {\n",
       "color: red;\n",
       "font-weight: bold;\n",
       "}\n",
       ".err-msg.in.collapse {\n",
       "padding-top: 0.7em;\n",
       "}\n",
       "\n",
       ".highlight-code {\n",
       "white-space: pre;\n",
       "font-family: monospace;\n",
       "}\n",
       "\n",
       ".suggestion-warning { \n",
       "font-weight: bold;\n",
       "color: rgb(200, 130, 0);\n",
       "}\n",
       ".suggestion-error { \n",
       "font-weight: bold;\n",
       "color: red;\n",
       "}\n",
       ".suggestion-name {\n",
       "font-weight: bold;\n",
       "}\n",
       "\n",
       "</style><span class='get-type'>addTwo' :: Int -> Int</span>"
      ],
      "text/plain": [
       "addTwo' :: Int -> Int"
      ]
     },
     "metadata": {},
     "output_type": "display_data"
    },
    {
     "data": {
      "text/plain": [
       "5"
      ]
     },
     "metadata": {},
     "output_type": "display_data"
    },
    {
     "ename": "",
     "evalue": "",
     "output_type": "error",
     "traceback": [
      "<interactive>:1:9: error: [GHC-39999]\n    • No instance for ‘Fractional Int’ arising from the literal ‘3.0’\n    • In the first argument of ‘addTwo'’, namely ‘3.0’\n      In the expression: addTwo' 3.0\n      In an equation for ‘it’: it = addTwo' 3.0"
     ]
    }
   ],
   "source": [
    "-- If we force a type inside the function, the type of the function changes\n",
    "addTwo' x = x + 2 :: Int\n",
    ":t addTwo'\n",
    "addTwo' 3\n",
    "-- This will fail as 3.0 is not an Int\n",
    "addTwo' 3.0"
   ]
  },
  {
   "cell_type": "code",
   "execution_count": 14,
   "id": "2108d8dd",
   "metadata": {},
   "outputs": [
    {
     "data": {
      "text/plain": [
       "5"
      ]
     },
     "metadata": {},
     "output_type": "display_data"
    },
    {
     "data": {
      "text/plain": [
       "\n",
       "\u001b[;1m<interactive>:1:10: \u001b[;1m\u001b[35mwarning\u001b[0m\u001b[0m\u001b[;1m: [\u001b[;1m\u001b[35mGHC-97441\u001b[0m\u001b[0m\u001b[;1m] [\u001b[;1m\u001b[35m-Woverflowed-literals\u001b[0m\u001b[0m\u001b[;1m]\u001b[0m\u001b[0m\u001b[;1m Literal 32482084032840328403280348 is out of the Int range -9223372036854775808..9223372036854775807\u001b[0m\u001b[0m\n",
       "5603440348473385438"
      ]
     },
     "metadata": {},
     "output_type": "display_data"
    },
    {
     "data": {
      "text/plain": [
       "32482084032840328403280350"
      ]
     },
     "metadata": {},
     "output_type": "display_data"
    },
    {
     "data": {
      "text/html": [
       "<style>/* Styles used for the Hoogle display in the pager */\n",
       ".hoogle-doc {\n",
       "display: block;\n",
       "padding-bottom: 1.3em;\n",
       "padding-left: 0.4em;\n",
       "}\n",
       ".hoogle-code {\n",
       "display: block;\n",
       "font-family: monospace;\n",
       "white-space: pre;\n",
       "}\n",
       ".hoogle-text {\n",
       "display: block;\n",
       "}\n",
       ".hoogle-name {\n",
       "color: green;\n",
       "font-weight: bold;\n",
       "}\n",
       ".hoogle-head {\n",
       "font-weight: bold;\n",
       "}\n",
       ".hoogle-sub {\n",
       "display: block;\n",
       "margin-left: 0.4em;\n",
       "}\n",
       ".hoogle-package {\n",
       "font-weight: bold;\n",
       "font-style: italic;\n",
       "}\n",
       ".hoogle-module {\n",
       "font-weight: bold;\n",
       "}\n",
       ".hoogle-class {\n",
       "font-weight: bold;\n",
       "}\n",
       "\n",
       ".get-type {\n",
       "color: green;\n",
       "font-weight: bold;\n",
       "font-family: monospace;\n",
       "display: block;\n",
       "white-space: pre-wrap;\n",
       "}\n",
       ".show-type {\n",
       "color: green;\n",
       "font-weight: bold;\n",
       "font-family: monospace;\n",
       "margin-left: 1em;\n",
       "}\n",
       ".mono {\n",
       "font-family: monospace;\n",
       "display: block;\n",
       "}\n",
       ".err-msg {\n",
       "color: red;\n",
       "font-style: italic;\n",
       "font-family: monospace;\n",
       "white-space: pre;\n",
       "display: block;\n",
       "}\n",
       "#unshowable {\n",
       "color: red;\n",
       "font-weight: bold;\n",
       "}\n",
       ".err-msg.in.collapse {\n",
       "padding-top: 0.7em;\n",
       "}\n",
       "\n",
       ".highlight-code {\n",
       "white-space: pre;\n",
       "font-family: monospace;\n",
       "}\n",
       "\n",
       ".suggestion-warning { \n",
       "font-weight: bold;\n",
       "color: rgb(200, 130, 0);\n",
       "}\n",
       ".suggestion-error { \n",
       "font-weight: bold;\n",
       "color: red;\n",
       "}\n",
       ".suggestion-name {\n",
       "font-weight: bold;\n",
       "}\n",
       "\n",
       "</style><span class='get-type'>addTwo''' :: forall a. Integral a => a -> a</span>"
      ],
      "text/plain": [
       "addTwo''' :: forall a. Integral a => a -> a"
      ]
     },
     "metadata": {},
     "output_type": "display_data"
    },
    {
     "data": {
      "text/plain": [
       "32482084032840328403280350"
      ]
     },
     "metadata": {},
     "output_type": "display_data"
    },
    {
     "data": {
      "text/html": [
       "<style>/* Styles used for the Hoogle display in the pager */\n",
       ".hoogle-doc {\n",
       "display: block;\n",
       "padding-bottom: 1.3em;\n",
       "padding-left: 0.4em;\n",
       "}\n",
       ".hoogle-code {\n",
       "display: block;\n",
       "font-family: monospace;\n",
       "white-space: pre;\n",
       "}\n",
       ".hoogle-text {\n",
       "display: block;\n",
       "}\n",
       ".hoogle-name {\n",
       "color: green;\n",
       "font-weight: bold;\n",
       "}\n",
       ".hoogle-head {\n",
       "font-weight: bold;\n",
       "}\n",
       ".hoogle-sub {\n",
       "display: block;\n",
       "margin-left: 0.4em;\n",
       "}\n",
       ".hoogle-package {\n",
       "font-weight: bold;\n",
       "font-style: italic;\n",
       "}\n",
       ".hoogle-module {\n",
       "font-weight: bold;\n",
       "}\n",
       ".hoogle-class {\n",
       "font-weight: bold;\n",
       "}\n",
       "\n",
       ".get-type {\n",
       "color: green;\n",
       "font-weight: bold;\n",
       "font-family: monospace;\n",
       "display: block;\n",
       "white-space: pre-wrap;\n",
       "}\n",
       ".show-type {\n",
       "color: green;\n",
       "font-weight: bold;\n",
       "font-family: monospace;\n",
       "margin-left: 1em;\n",
       "}\n",
       ".mono {\n",
       "font-family: monospace;\n",
       "display: block;\n",
       "}\n",
       ".err-msg {\n",
       "color: red;\n",
       "font-style: italic;\n",
       "font-family: monospace;\n",
       "white-space: pre;\n",
       "display: block;\n",
       "}\n",
       "#unshowable {\n",
       "color: red;\n",
       "font-weight: bold;\n",
       "}\n",
       ".err-msg.in.collapse {\n",
       "padding-top: 0.7em;\n",
       "}\n",
       "\n",
       ".highlight-code {\n",
       "white-space: pre;\n",
       "font-family: monospace;\n",
       "}\n",
       "\n",
       ".suggestion-warning { \n",
       "font-weight: bold;\n",
       "color: rgb(200, 130, 0);\n",
       "}\n",
       ".suggestion-error { \n",
       "font-weight: bold;\n",
       "color: red;\n",
       "}\n",
       ".suggestion-name {\n",
       "font-weight: bold;\n",
       "}\n",
       "\n",
       "</style><span class='get-type'>pure :: forall (f :: * -> *) a. Applicative f => a -> f a</span>"
      ],
      "text/plain": [
       "pure :: forall (f :: * -> *) a. Applicative f => a -> f a"
      ]
     },
     "metadata": {},
     "output_type": "display_data"
    }
   ],
   "source": [
    "-- Forcing the function to work only with Int\n",
    "addTwo'':: Int -> Int\n",
    "addTwo'' x = x + 2\n",
    "\n",
    "addTwo'' 3\n",
    "-- This exceeds the range of Int,  like in many other languages a circular range is considered\n",
    "addTwo'' 32482084032840328403280348\n",
    "-- No problem with the first version as it also works with Integer\n",
    "addTwo 32482084032840328403280348\n",
    "\n",
    "-- To make it work with Integral\n",
    "addTwo''' :: Integral a => a -> a\n",
    "addTwo''' x = x + 2\n",
    ":t addTwo'''\n",
    "\n",
    "addTwo''' 32482084032840328403280348"
   ]
  },
  {
   "cell_type": "markdown",
   "id": "eac201ac",
   "metadata": {},
   "source": [
    "You may notice that when the type class is inferred, as in `addTwo`, it shows `forall {a}. Num a => a -> a`, while when you explicitly specify it, as in `addTwo'''`, it shows `forall a. Integral a => a -> a` (no brackets surrounding the `a` in the `forall`). There is a slight difference among both approaches, which is out of the scope of this course, but briefly speaking, in the first case the compiler will select the most appropriate type when you invoke the function, while in the second case there are ways to specify the type and force the compiler to use it.\n",
    "\n",
    "Some functions are polymorphic, meaning that they can receive inputs of any type or that their output can belong to any type, or both together."
   ]
  },
  {
   "cell_type": "code",
   "execution_count": 15,
   "id": "d8d8f632",
   "metadata": {},
   "outputs": [
    {
     "data": {
      "text/html": [
       "<style>/* Styles used for the Hoogle display in the pager */\n",
       ".hoogle-doc {\n",
       "display: block;\n",
       "padding-bottom: 1.3em;\n",
       "padding-left: 0.4em;\n",
       "}\n",
       ".hoogle-code {\n",
       "display: block;\n",
       "font-family: monospace;\n",
       "white-space: pre;\n",
       "}\n",
       ".hoogle-text {\n",
       "display: block;\n",
       "}\n",
       ".hoogle-name {\n",
       "color: green;\n",
       "font-weight: bold;\n",
       "}\n",
       ".hoogle-head {\n",
       "font-weight: bold;\n",
       "}\n",
       ".hoogle-sub {\n",
       "display: block;\n",
       "margin-left: 0.4em;\n",
       "}\n",
       ".hoogle-package {\n",
       "font-weight: bold;\n",
       "font-style: italic;\n",
       "}\n",
       ".hoogle-module {\n",
       "font-weight: bold;\n",
       "}\n",
       ".hoogle-class {\n",
       "font-weight: bold;\n",
       "}\n",
       "\n",
       ".get-type {\n",
       "color: green;\n",
       "font-weight: bold;\n",
       "font-family: monospace;\n",
       "display: block;\n",
       "white-space: pre-wrap;\n",
       "}\n",
       ".show-type {\n",
       "color: green;\n",
       "font-weight: bold;\n",
       "font-family: monospace;\n",
       "margin-left: 1em;\n",
       "}\n",
       ".mono {\n",
       "font-family: monospace;\n",
       "display: block;\n",
       "}\n",
       ".err-msg {\n",
       "color: red;\n",
       "font-style: italic;\n",
       "font-family: monospace;\n",
       "white-space: pre;\n",
       "display: block;\n",
       "}\n",
       "#unshowable {\n",
       "color: red;\n",
       "font-weight: bold;\n",
       "}\n",
       ".err-msg.in.collapse {\n",
       "padding-top: 0.7em;\n",
       "}\n",
       "\n",
       ".highlight-code {\n",
       "white-space: pre;\n",
       "font-family: monospace;\n",
       "}\n",
       "\n",
       ".suggestion-warning { \n",
       "font-weight: bold;\n",
       "color: rgb(200, 130, 0);\n",
       "}\n",
       ".suggestion-error { \n",
       "font-weight: bold;\n",
       "color: red;\n",
       "}\n",
       ".suggestion-name {\n",
       "font-weight: bold;\n",
       "}\n",
       "\n",
       "</style><span class='get-type'>toPepe :: forall {p}. p -> String</span>"
      ],
      "text/plain": [
       "toPepe :: forall {p}. p -> String"
      ]
     },
     "metadata": {},
     "output_type": "display_data"
    },
    {
     "data": {
      "text/plain": [
       "\"Pepe\""
      ]
     },
     "metadata": {},
     "output_type": "display_data"
    },
    {
     "data": {
      "text/plain": [
       "\"Pepe\""
      ]
     },
     "metadata": {},
     "output_type": "display_data"
    },
    {
     "data": {
      "text/html": [
       "<style>/* Styles used for the Hoogle display in the pager */\n",
       ".hoogle-doc {\n",
       "display: block;\n",
       "padding-bottom: 1.3em;\n",
       "padding-left: 0.4em;\n",
       "}\n",
       ".hoogle-code {\n",
       "display: block;\n",
       "font-family: monospace;\n",
       "white-space: pre;\n",
       "}\n",
       ".hoogle-text {\n",
       "display: block;\n",
       "}\n",
       ".hoogle-name {\n",
       "color: green;\n",
       "font-weight: bold;\n",
       "}\n",
       ".hoogle-head {\n",
       "font-weight: bold;\n",
       "}\n",
       ".hoogle-sub {\n",
       "display: block;\n",
       "margin-left: 0.4em;\n",
       "}\n",
       ".hoogle-package {\n",
       "font-weight: bold;\n",
       "font-style: italic;\n",
       "}\n",
       ".hoogle-module {\n",
       "font-weight: bold;\n",
       "}\n",
       ".hoogle-class {\n",
       "font-weight: bold;\n",
       "}\n",
       "\n",
       ".get-type {\n",
       "color: green;\n",
       "font-weight: bold;\n",
       "font-family: monospace;\n",
       "display: block;\n",
       "white-space: pre-wrap;\n",
       "}\n",
       ".show-type {\n",
       "color: green;\n",
       "font-weight: bold;\n",
       "font-family: monospace;\n",
       "margin-left: 1em;\n",
       "}\n",
       ".mono {\n",
       "font-family: monospace;\n",
       "display: block;\n",
       "}\n",
       ".err-msg {\n",
       "color: red;\n",
       "font-style: italic;\n",
       "font-family: monospace;\n",
       "white-space: pre;\n",
       "display: block;\n",
       "}\n",
       "#unshowable {\n",
       "color: red;\n",
       "font-weight: bold;\n",
       "}\n",
       ".err-msg.in.collapse {\n",
       "padding-top: 0.7em;\n",
       "}\n",
       "\n",
       ".highlight-code {\n",
       "white-space: pre;\n",
       "font-family: monospace;\n",
       "}\n",
       "\n",
       ".suggestion-warning { \n",
       "font-weight: bold;\n",
       "color: rgb(200, 130, 0);\n",
       "}\n",
       ".suggestion-error { \n",
       "font-weight: bold;\n",
       "color: red;\n",
       "}\n",
       ".suggestion-name {\n",
       "font-weight: bold;\n",
       "}\n",
       "\n",
       "</style><span class='get-type'>myId :: forall {p}. p -> p</span>"
      ],
      "text/plain": [
       "myId :: forall {p}. p -> p"
      ]
     },
     "metadata": {},
     "output_type": "display_data"
    },
    {
     "data": {
      "text/plain": [
       "\"hello\""
      ]
     },
     "metadata": {},
     "output_type": "display_data"
    }
   ],
   "source": [
    "-- Example of a function with polymorphic input\n",
    "-- It converts anything to \"Pepe\", so the input can be of any type\n",
    "toPepe x = \"Pepe\"\n",
    ":t toPepe\n",
    "toPepe 4\n",
    "toPepe True\n",
    "\n",
    "-- Example of a function with polymorphic input and output, our own id function\n",
    "myId x = x\n",
    ":t myId\n",
    "myId \"hello\"\n",
    "\n",
    "-- Examples of functions with polymorphic output are more strange, we will see one of them `pure` in the future"
   ]
  },
  {
   "cell_type": "markdown",
   "id": "4f51e546",
   "metadata": {},
   "source": [
    "# Functions as input\n",
    "\n",
    "In Haskell functions can be the input of another function, given that the output type of one is compatible with the input type of the other. For example if one function returns an `Int` it can be the input of another that requires an `Int`"
   ]
  },
  {
   "cell_type": "code",
   "execution_count": 16,
   "id": "341a6cd1",
   "metadata": {},
   "outputs": [
    {
     "data": {
      "text/plain": [
       "\"Pepe\""
      ]
     },
     "metadata": {},
     "output_type": "display_data"
    },
    {
     "ename": "",
     "evalue": "",
     "output_type": "error",
     "traceback": [
      "<interactive>:1:1: error: [GHC-83865]\n    • Couldn't match expected type: t0 -> t\n                  with actual type: String\n    • The function ‘toPepe’ is applied to two value arguments, but its type ‘(p0 -> p0) -> String’ has only one\n      In the expression: toPepe myId 5\n      In an equation for ‘it’: it = toPepe myId 5\n    • Relevant bindings include it :: t (bound at <interactive>:1:1)"
     ]
    }
   ],
   "source": [
    "-- Function application is left-associative, this is equivalent to (myId toPepe) 5 -> toPepe 5 -> \"Pepe\"\n",
    "myId toPepe 5\n",
    "-- This will not work as it is equivalent to (toPepe myId) 5 -> \"Pepe\" 5 which makes no sense\n",
    "toPepe myId 5"
   ]
  },
  {
   "cell_type": "code",
   "execution_count": 17,
   "id": "fbb17750",
   "metadata": {},
   "outputs": [
    {
     "data": {
      "text/plain": [
       "\"Pepe\""
      ]
     },
     "metadata": {},
     "output_type": "display_data"
    },
    {
     "data": {
      "text/plain": [
       "\"Pepe\""
      ]
     },
     "metadata": {},
     "output_type": "display_data"
    }
   ],
   "source": [
    "-- The way to solve it is\n",
    "toPepe (myId 5)\n",
    "-- This works! Whatever the input toPepe will return \"Pepe\"\n",
    "toPepe myId"
   ]
  },
  {
   "cell_type": "markdown",
   "id": "f12d9cea",
   "metadata": {},
   "source": [
    "# Sections\n",
    "\n",
    "An operator enclosed in a parenthesis with a value: `(operator value)`"
   ]
  },
  {
   "cell_type": "code",
   "execution_count": 18,
   "id": "c8109b45",
   "metadata": {},
   "outputs": [
    {
     "data": {
      "text/html": [
       "<style>/* Styles used for the Hoogle display in the pager */\n",
       ".hoogle-doc {\n",
       "display: block;\n",
       "padding-bottom: 1.3em;\n",
       "padding-left: 0.4em;\n",
       "}\n",
       ".hoogle-code {\n",
       "display: block;\n",
       "font-family: monospace;\n",
       "white-space: pre;\n",
       "}\n",
       ".hoogle-text {\n",
       "display: block;\n",
       "}\n",
       ".hoogle-name {\n",
       "color: green;\n",
       "font-weight: bold;\n",
       "}\n",
       ".hoogle-head {\n",
       "font-weight: bold;\n",
       "}\n",
       ".hoogle-sub {\n",
       "display: block;\n",
       "margin-left: 0.4em;\n",
       "}\n",
       ".hoogle-package {\n",
       "font-weight: bold;\n",
       "font-style: italic;\n",
       "}\n",
       ".hoogle-module {\n",
       "font-weight: bold;\n",
       "}\n",
       ".hoogle-class {\n",
       "font-weight: bold;\n",
       "}\n",
       "\n",
       ".get-type {\n",
       "color: green;\n",
       "font-weight: bold;\n",
       "font-family: monospace;\n",
       "display: block;\n",
       "white-space: pre-wrap;\n",
       "}\n",
       ".show-type {\n",
       "color: green;\n",
       "font-weight: bold;\n",
       "font-family: monospace;\n",
       "margin-left: 1em;\n",
       "}\n",
       ".mono {\n",
       "font-family: monospace;\n",
       "display: block;\n",
       "}\n",
       ".err-msg {\n",
       "color: red;\n",
       "font-style: italic;\n",
       "font-family: monospace;\n",
       "white-space: pre;\n",
       "display: block;\n",
       "}\n",
       "#unshowable {\n",
       "color: red;\n",
       "font-weight: bold;\n",
       "}\n",
       ".err-msg.in.collapse {\n",
       "padding-top: 0.7em;\n",
       "}\n",
       "\n",
       ".highlight-code {\n",
       "white-space: pre;\n",
       "font-family: monospace;\n",
       "}\n",
       "\n",
       ".suggestion-warning { \n",
       "font-weight: bold;\n",
       "color: rgb(200, 130, 0);\n",
       "}\n",
       ".suggestion-error { \n",
       "font-weight: bold;\n",
       "color: red;\n",
       "}\n",
       ".suggestion-name {\n",
       "font-weight: bold;\n",
       "}\n",
       "\n",
       "</style><div class=\"suggestion-name\" style=\"clear:both;\">Eta reduce</div><div class=\"suggestion-row\" style=\"float: left;\"><div class=\"suggestion-warning\">Found:</div><div class=\"highlight-code\" id=\"haskell\">addTwo x = (+ 2) x</div></div><div class=\"suggestion-row\" style=\"float: left;\"><div class=\"suggestion-warning\">Why Not:</div><div class=\"highlight-code\" id=\"haskell\">addTwo = (+ 2)</div></div>"
      ],
      "text/plain": [
       "Line 6: Eta reduce\n",
       "Found:\n",
       "addTwo x = (+ 2) x\n",
       "Why not:\n",
       "addTwo = (+ 2)"
      ]
     },
     "metadata": {},
     "output_type": "display_data"
    },
    {
     "data": {
      "text/plain": [
       "7"
      ]
     },
     "metadata": {},
     "output_type": "display_data"
    },
    {
     "data": {
      "text/plain": [
       "10"
      ]
     },
     "metadata": {},
     "output_type": "display_data"
    },
    {
     "data": {
      "text/plain": [
       "5"
      ]
     },
     "metadata": {},
     "output_type": "display_data"
    },
    {
     "data": {
      "text/plain": [
       "5"
      ]
     },
     "metadata": {},
     "output_type": "display_data"
    },
    {
     "data": {
      "text/plain": [
       "True"
      ]
     },
     "metadata": {},
     "output_type": "display_data"
    },
    {
     "data": {
      "text/plain": [
       "True"
      ]
     },
     "metadata": {},
     "output_type": "display_data"
    },
    {
     "data": {
      "text/plain": [
       "False"
      ]
     },
     "metadata": {},
     "output_type": "display_data"
    }
   ],
   "source": [
    "-- Equivalent to 2 + 5\n",
    "(+2) 5\n",
    "-- They can be composed\n",
    "(+2) ((*4) 2)\n",
    "-- Or used in functions (most common use)\n",
    "addTwo x = (+2) x\n",
    "-- As the argument appears on both sides of the equality we can reduce it\n",
    "-- as we would do in mathematics\n",
    "addTwo' = (+2) \n",
    "addTwo' 3\n",
    "-- Alternative\n",
    "addTwo'' x = x + 2\n",
    "addTwo'' 3\n",
    "-- Another example\n",
    "positive = (>0)\n",
    "positive 5\n",
    "positive 3.2\n",
    "positive (-5)"
   ]
  },
  {
   "cell_type": "markdown",
   "id": "b2992054",
   "metadata": {},
   "source": [
    "# Declaring functions with guards\n",
    "\n",
    "Guards are a powerfull alternative to chained `if-then-else`, they allow to describe the output of a function depending on the specific values of the input."
   ]
  },
  {
   "cell_type": "code",
   "execution_count": 8,
   "id": "eac47297",
   "metadata": {},
   "outputs": [
    {
     "data": {
      "text/html": [
       "<style>/* Styles used for the Hoogle display in the pager */\n",
       ".hoogle-doc {\n",
       "display: block;\n",
       "padding-bottom: 1.3em;\n",
       "padding-left: 0.4em;\n",
       "}\n",
       ".hoogle-code {\n",
       "display: block;\n",
       "font-family: monospace;\n",
       "white-space: pre;\n",
       "}\n",
       ".hoogle-text {\n",
       "display: block;\n",
       "}\n",
       ".hoogle-name {\n",
       "color: green;\n",
       "font-weight: bold;\n",
       "}\n",
       ".hoogle-head {\n",
       "font-weight: bold;\n",
       "}\n",
       ".hoogle-sub {\n",
       "display: block;\n",
       "margin-left: 0.4em;\n",
       "}\n",
       ".hoogle-package {\n",
       "font-weight: bold;\n",
       "font-style: italic;\n",
       "}\n",
       ".hoogle-module {\n",
       "font-weight: bold;\n",
       "}\n",
       ".hoogle-class {\n",
       "font-weight: bold;\n",
       "}\n",
       "\n",
       ".get-type {\n",
       "color: green;\n",
       "font-weight: bold;\n",
       "font-family: monospace;\n",
       "display: block;\n",
       "white-space: pre-wrap;\n",
       "}\n",
       ".show-type {\n",
       "color: green;\n",
       "font-weight: bold;\n",
       "font-family: monospace;\n",
       "margin-left: 1em;\n",
       "}\n",
       ".mono {\n",
       "font-family: monospace;\n",
       "display: block;\n",
       "}\n",
       ".err-msg {\n",
       "color: red;\n",
       "font-style: italic;\n",
       "font-family: monospace;\n",
       "white-space: pre;\n",
       "display: block;\n",
       "}\n",
       "#unshowable {\n",
       "color: red;\n",
       "font-weight: bold;\n",
       "}\n",
       ".err-msg.in.collapse {\n",
       "padding-top: 0.7em;\n",
       "}\n",
       "\n",
       ".highlight-code {\n",
       "white-space: pre;\n",
       "font-family: monospace;\n",
       "}\n",
       "\n",
       ".suggestion-warning { \n",
       "font-weight: bold;\n",
       "color: rgb(200, 130, 0);\n",
       "}\n",
       ".suggestion-error { \n",
       "font-weight: bold;\n",
       "color: red;\n",
       "}\n",
       ".suggestion-name {\n",
       "font-weight: bold;\n",
       "}\n",
       "\n",
       "</style><div class=\"suggestion-name\" style=\"clear:both;\">Use guards</div><div class=\"suggestion-row\" style=\"float: left;\"><div class=\"suggestion-warning\">Found:</div><div class=\"highlight-code\" id=\"haskell\">mark m\n",
       "  = if m < 0 || m > 10 then\n",
       "        \"Wrong mark\"\n",
       "    else\n",
       "        if m < 5 then\n",
       "            \"Fail\"\n",
       "        else\n",
       "            if m < 7 then\n",
       "                \"Average\"\n",
       "            else\n",
       "                if m < 9 then \"Good\" else if m < 10 then \"Excellent\" else \"Honors\"</div></div><div class=\"suggestion-row\" style=\"float: left;\"><div class=\"suggestion-warning\">Why Not:</div><div class=\"highlight-code\" id=\"haskell\">mark m\n",
       "  | m < 0 || m > 10 = \"Wrong mark\"\n",
       "  | m < 5 = \"Fail\"\n",
       "  | m < 7 = \"Average\"\n",
       "  | m < 9 = \"Good\"\n",
       "  | m < 10 = \"Excellent\"\n",
       "  | otherwise = \"Honors\"</div></div>"
      ],
      "text/plain": [
       "Line 3: Use guards\n",
       "Found:\n",
       "mark m\n",
       "  = if m < 0 || m > 10 then\n",
       "        \"Wrong mark\"\n",
       "    else\n",
       "        if m < 5 then\n",
       "            \"Fail\"\n",
       "        else\n",
       "            if m < 7 then\n",
       "                \"Average\"\n",
       "            else\n",
       "                if m < 9 then \"Good\" else if m < 10 then \"Excellent\" else \"Honors\"\n",
       "Why not:\n",
       "mark m\n",
       "  | m < 0 || m > 10 = \"Wrong mark\"\n",
       "  | m < 5 = \"Fail\"\n",
       "  | m < 7 = \"Average\"\n",
       "  | m < 9 = \"Good\"\n",
       "  | m < 10 = \"Excellent\"\n",
       "  | otherwise = \"Honors\""
      ]
     },
     "metadata": {},
     "output_type": "display_data"
    },
    {
     "data": {
      "text/plain": [
       "\"Wrong mark\""
      ]
     },
     "metadata": {},
     "output_type": "display_data"
    },
    {
     "data": {
      "text/plain": [
       "\"Average\""
      ]
     },
     "metadata": {},
     "output_type": "display_data"
    },
    {
     "data": {
      "text/plain": [
       "\"Honors\""
      ]
     },
     "metadata": {},
     "output_type": "display_data"
    },
    {
     "data": {
      "text/plain": [
       "\"Excellent\""
      ]
     },
     "metadata": {},
     "output_type": "display_data"
    },
    {
     "data": {
      "text/plain": [
       "\"Wrong mark\""
      ]
     },
     "metadata": {},
     "output_type": "display_data"
    }
   ],
   "source": [
    "-- A function to calculate the string mark given a numeric one \n",
    "mark :: Float -> String\n",
    "mark m = \n",
    "    if m < 0 || m > 10 then \"Wrong mark\"\n",
    "    else if m < 5 then \"Fail\"\n",
    "    else if m < 7 then \"Average\"\n",
    "    else if m < 9 then \"Good\"\n",
    "    else if m < 10 then \"Excellent\"\n",
    "    else \"Honors\"\n",
    "\n",
    "mark (-1)\n",
    "mark 5.1\n",
    "mark 10.0\n",
    "mark 9.99999\n",
    "mark 10.1"
   ]
  },
  {
   "cell_type": "code",
   "execution_count": 9,
   "id": "080b6b96",
   "metadata": {},
   "outputs": [
    {
     "data": {
      "text/plain": [
       "\"Fail\""
      ]
     },
     "metadata": {},
     "output_type": "display_data"
    },
    {
     "data": {
      "text/plain": [
       "\"Good\""
      ]
     },
     "metadata": {},
     "output_type": "display_data"
    },
    {
     "data": {
      "text/plain": [
       "\"Wrong mark\""
      ]
     },
     "metadata": {},
     "output_type": "display_data"
    },
    {
     "data": {
      "text/plain": [
       "\"Wrong mark\""
      ]
     },
     "metadata": {},
     "output_type": "display_data"
    },
    {
     "ename": "",
     "evalue": "",
     "output_type": "error",
     "traceback": [
      "<interactive>:(2,1)-(7,26): Non-exhaustive patterns in function mark"
     ]
    }
   ],
   "source": [
    "-- A function to calculate the string mark given a numeric one \n",
    "--(incomplete, not all patterns considered, notice there is no warning, it will be noticed in execution)\n",
    "mark :: Float -> String\n",
    "mark m\n",
    "    | m < 0 || m > 10 = \"Wrong mark\"\n",
    "    | m < 5 = \"Fail\"\n",
    "    | m < 7 = \"Average\"\n",
    "    | m < 9 = \"Good\"\n",
    "    | m < 10 = \"Excellent\"\n",
    "\n",
    "mark 3\n",
    "mark 7\n",
    "mark (-12)\n",
    "mark 22\n",
    "mark 10\n",
    "\n"
   ]
  },
  {
   "cell_type": "code",
   "execution_count": 10,
   "id": "320435b8",
   "metadata": {},
   "outputs": [
    {
     "data": {
      "text/plain": [
       "\"Fail\""
      ]
     },
     "metadata": {},
     "output_type": "display_data"
    },
    {
     "data": {
      "text/plain": [
       "\"Good\""
      ]
     },
     "metadata": {},
     "output_type": "display_data"
    },
    {
     "data": {
      "text/plain": [
       "\"Wrong mark\""
      ]
     },
     "metadata": {},
     "output_type": "display_data"
    },
    {
     "data": {
      "text/plain": [
       "\"Wrong mark\""
      ]
     },
     "metadata": {},
     "output_type": "display_data"
    },
    {
     "data": {
      "text/plain": [
       "\"Honors\""
      ]
     },
     "metadata": {},
     "output_type": "display_data"
    }
   ],
   "source": [
    "-- A function to calculate the string mark given a numeric one \n",
    "mark :: Float -> String\n",
    "mark m\n",
    "    -- No need for all of them to be at the same column\n",
    "    | m < 0 || m > 10 = \"Wrong mark\"\n",
    "     | m < 5 = \"Fail\"\n",
    "    | m < 7 = \"Average\"\n",
    "      | m < 9 = \"Good\"\n",
    "    | m < 10 = \"Excellent\"\n",
    "    -- We can use m == 10 or rely on otherwise\n",
    "    \n",
    " | otherwise = \"Honors\"\n",
    "        \n",
    "mark 3\n",
    "mark 7\n",
    "mark (-12)\n",
    "mark 22\n",
    "mark 10"
   ]
  },
  {
   "cell_type": "code",
   "execution_count": 11,
   "id": "17509c60",
   "metadata": {},
   "outputs": [
    {
     "data": {
      "text/plain": [
       "\"Your mark is 3.0: Fail\""
      ]
     },
     "metadata": {},
     "output_type": "display_data"
    },
    {
     "data": {
      "text/plain": [
       "\"Your mark is 7.0: Good\""
      ]
     },
     "metadata": {},
     "output_type": "display_data"
    },
    {
     "data": {
      "text/plain": [
       "\"Wrong mark\""
      ]
     },
     "metadata": {},
     "output_type": "display_data"
    },
    {
     "data": {
      "text/plain": [
       "\"Wrong mark\""
      ]
     },
     "metadata": {},
     "output_type": "display_data"
    }
   ],
   "source": [
    "-- The show function: converting anything to a String\n",
    "-- here we use it to concatenate numbers and string\n",
    "mark :: Float -> String\n",
    "mark m\n",
    "    | m < 0 || m > 10 = \"Wrong mark\"\n",
    "    | m < 5 = \"Your mark is \" ++ show m ++ \": Fail\"\n",
    "    | m < 7 = \"Your mark is \" ++ show m ++ \": Average\"\n",
    "    | m < 9 = \"Your mark is \" ++ show m ++ \": Good\"\n",
    "    | m < 10 = \"Your mark is \" ++ show m ++ \": Excellent\"\n",
    "    | otherwise = \"Your mark is \" ++ show m ++ \": Honors\"\n",
    "\n",
    "mark 3\n",
    "mark 7\n",
    "mark 22\n",
    "mark (-12)"
   ]
  },
  {
   "cell_type": "code",
   "execution_count": 12,
   "id": "32bbf0b0",
   "metadata": {},
   "outputs": [
    {
     "data": {
      "text/plain": [
       "\"Your mark is 3.0: Fail\""
      ]
     },
     "metadata": {},
     "output_type": "display_data"
    },
    {
     "data": {
      "text/plain": [
       "\"Your mark is 7.0: Good\""
      ]
     },
     "metadata": {},
     "output_type": "display_data"
    },
    {
     "data": {
      "text/plain": [
       "\"Wrong mark\""
      ]
     },
     "metadata": {},
     "output_type": "display_data"
    },
    {
     "data": {
      "text/plain": [
       "\"Wrong mark\""
      ]
     },
     "metadata": {},
     "output_type": "display_data"
    }
   ],
   "source": [
    "-- Local definitions \n",
    "mark :: Float -> String\n",
    "mark a \n",
    "        | a < 0 || a > 10 =  \"Wrong mark\"\n",
    "        | a < 5 = out ++ \"Fail\"\n",
    "        | a < 7 = out ++ \"Average\"\n",
    "        | a < 9 = out ++\"Good\"\n",
    "        | a < 10 = out ++\"Excellent\"\n",
    "        | otherwise = out ++ \"Honors\"\n",
    "        where out = \"Your mark is \" ++ show a ++ \": \"\n",
    "\n",
    "mark 3\n",
    "mark 7\n",
    "mark 22\n",
    "mark (-12)"
   ]
  },
  {
   "cell_type": "code",
   "execution_count": 21,
   "id": "2d80b005",
   "metadata": {},
   "outputs": [
    {
     "data": {
      "text/plain": [
       "\"your mark is 3.0: Fail\""
      ]
     },
     "metadata": {},
     "output_type": "display_data"
    },
    {
     "data": {
      "text/plain": [
       "\"your mark is 7.0: Good\""
      ]
     },
     "metadata": {},
     "output_type": "display_data"
    },
    {
     "data": {
      "text/plain": [
       "\"22.0 is an invalid grade\""
      ]
     },
     "metadata": {},
     "output_type": "display_data"
    },
    {
     "data": {
      "text/plain": [
       "\"-12.0 is an invalid grade\""
      ]
     },
     "metadata": {},
     "output_type": "display_data"
    }
   ],
   "source": [
    "-- Example of two local definitions\n",
    "mark :: Float -> String\n",
    "mark m\n",
    "    | m < 0 = text2\n",
    "    | m < 5 = text ++ \": Fail\"\n",
    "    | m < 7 = text ++ \": Average\"\n",
    "    | m < 9 = text ++ \": Good\"\n",
    "    | m < 10 = text ++ \": Excellent\"\n",
    "    | m == 10 = text ++ \": Honors\"\n",
    "    | otherwise = text2\n",
    "    where \n",
    "     --- Indentation not required but easier to read\n",
    "     text = \"your mark is \" ++ show m\n",
    "     text2 = show m ++ \" is an invalid grade\"\n",
    "\n",
    "mark 3\n",
    "mark 7\n",
    "mark 22\n",
    "mark (-12)"
   ]
  },
  {
   "cell_type": "markdown",
   "id": "9b308f5a",
   "metadata": {},
   "source": [
    "# Declaring functions with patterns\n",
    "\n",
    "Defining the result of the function for each input value. Not too useful with our current knowledge, we will see their utility in next labs."
   ]
  },
  {
   "cell_type": "code",
   "execution_count": 14,
   "id": "1fa37803",
   "metadata": {},
   "outputs": [
    {
     "data": {
      "text/plain": [
       "\"Fail\""
      ]
     },
     "metadata": {},
     "output_type": "display_data"
    },
    {
     "data": {
      "text/plain": [
       "\"Good\""
      ]
     },
     "metadata": {},
     "output_type": "display_data"
    },
    {
     "data": {
      "text/plain": [
       "\"Wrong mark\""
      ]
     },
     "metadata": {},
     "output_type": "display_data"
    },
    {
     "data": {
      "text/plain": [
       "\"Wrong mark\""
      ]
     },
     "metadata": {},
     "output_type": "display_data"
    }
   ],
   "source": [
    "-- Simple version of patterns, a value for each input, only works for Int\n",
    "mark :: Int -> String\n",
    "mark 0 = \"Fail\"\n",
    "-- Instead of repeating the \"fail\" we use the value of\n",
    "-- the previous pattern\n",
    "mark 1 = mark 0\n",
    "mark 2 = mark 0\n",
    "mark 3 = mark 0\n",
    "mark 4 = mark 0\n",
    "mark 5 = \"Average\"\n",
    "mark 6 = mark 5\n",
    "-- Notice that mark 8 is not yet defined here, but it works\n",
    "mark 7 = mark 8\n",
    "mark 8 = \"Good\"\n",
    "mark 9 = \"Excellent\"\n",
    "mark 10 = \"Honors\"\n",
    "-- The _ is like the otherwise for guards\n",
    "mark _ = \"Wrong mark\"\n",
    "\n",
    "mark 3\n",
    "mark 7\n",
    "mark 22\n",
    "mark (-12)"
   ]
  },
  {
   "cell_type": "code",
   "execution_count": null,
   "id": "04e3928e",
   "metadata": {},
   "outputs": [
    {
     "data": {
      "text/plain": [
       "\"Fail\""
      ]
     },
     "metadata": {},
     "output_type": "display_data"
    },
    {
     "data": {
      "text/plain": [
       "\"Good\""
      ]
     },
     "metadata": {},
     "output_type": "display_data"
    },
    {
     "data": {
      "text/plain": [
       "\"Wrong mark\""
      ]
     },
     "metadata": {},
     "output_type": "display_data"
    },
    {
     "data": {
      "text/plain": [
       "\"Wrong mark\""
      ]
     },
     "metadata": {},
     "output_type": "display_data"
    }
   ],
   "source": [
    "-- Patterns, using an auxiliary function to group values, not too useful as it is easier with guards\n",
    "\n",
    "groupMarks :: Float -> Int\n",
    "groupMarks m\n",
    "    | m < 0 || m > 10 = -1\n",
    "    | m < 5 = 4\n",
    "    | m < 7 = 5\n",
    "    | m < 9 = 7\n",
    "    | m < 10 = 9\n",
    "    | m == 10 = 10\n",
    "\n",
    "mark :: Int -> String\n",
    "mark (-1) = \"Wrong mark\"\n",
    "mark 4 =  \"Fail\"\n",
    "mark 5 = \"Average\"\n",
    "mark 7 = \"Good\"\n",
    "mark 9 = \"Excellent\"\n",
    "mark 10 = \"Honors\"\n",
    "\n",
    "mark (groupMarks 3.2)\n",
    "mark (groupMarks 7.9)\n",
    "mark (groupMarks 22)\n",
    "mark (groupMarks (-12))"
   ]
  }
 ],
 "metadata": {
  "kernelspec": {
   "display_name": "Haskell",
   "language": "haskell",
   "name": "haskell"
  },
  "language_info": {
   "codemirror_mode": "ihaskell",
   "file_extension": ".hs",
   "mimetype": "text/x-haskell",
   "name": "haskell",
   "pygments_lexer": "Haskell",
   "version": "9.6.4"
  }
 },
 "nbformat": 4,
 "nbformat_minor": 5
}
