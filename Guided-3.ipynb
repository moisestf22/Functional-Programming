{
 "cells": [
  {
   "cell_type": "markdown",
   "id": "2fbe9757",
   "metadata": {},
   "source": [
    "# Guided exercise 3: Lists \n",
    "\n",
    "A list in Haskell must contain elements of the same type. The only exception is the empty list, which is polymorphic."
   ]
  },
  {
   "cell_type": "code",
   "execution_count": 2,
   "id": "d83f46d4",
   "metadata": {},
   "outputs": [
    {
     "data": {
      "text/html": [
       "<style>/* Styles used for the Hoogle display in the pager */\n",
       ".hoogle-doc {\n",
       "display: block;\n",
       "padding-bottom: 1.3em;\n",
       "padding-left: 0.4em;\n",
       "}\n",
       ".hoogle-code {\n",
       "display: block;\n",
       "font-family: monospace;\n",
       "white-space: pre;\n",
       "}\n",
       ".hoogle-text {\n",
       "display: block;\n",
       "}\n",
       ".hoogle-name {\n",
       "color: green;\n",
       "font-weight: bold;\n",
       "}\n",
       ".hoogle-head {\n",
       "font-weight: bold;\n",
       "}\n",
       ".hoogle-sub {\n",
       "display: block;\n",
       "margin-left: 0.4em;\n",
       "}\n",
       ".hoogle-package {\n",
       "font-weight: bold;\n",
       "font-style: italic;\n",
       "}\n",
       ".hoogle-module {\n",
       "font-weight: bold;\n",
       "}\n",
       ".hoogle-class {\n",
       "font-weight: bold;\n",
       "}\n",
       "\n",
       ".get-type {\n",
       "color: green;\n",
       "font-weight: bold;\n",
       "font-family: monospace;\n",
       "display: block;\n",
       "white-space: pre-wrap;\n",
       "}\n",
       ".show-type {\n",
       "color: green;\n",
       "font-weight: bold;\n",
       "font-family: monospace;\n",
       "margin-left: 1em;\n",
       "}\n",
       ".mono {\n",
       "font-family: monospace;\n",
       "display: block;\n",
       "}\n",
       ".err-msg {\n",
       "color: red;\n",
       "font-style: italic;\n",
       "font-family: monospace;\n",
       "white-space: pre;\n",
       "display: block;\n",
       "}\n",
       "#unshowable {\n",
       "color: red;\n",
       "font-weight: bold;\n",
       "}\n",
       ".err-msg.in.collapse {\n",
       "padding-top: 0.7em;\n",
       "}\n",
       "\n",
       ".highlight-code {\n",
       "white-space: pre;\n",
       "font-family: monospace;\n",
       "}\n",
       "\n",
       ".suggestion-warning { \n",
       "font-weight: bold;\n",
       "color: rgb(200, 130, 0);\n",
       "}\n",
       ".suggestion-error { \n",
       "font-weight: bold;\n",
       "color: red;\n",
       "}\n",
       ".suggestion-name {\n",
       "font-weight: bold;\n",
       "}\n",
       "\n",
       "</style><span class='get-type'>[1, 2, 3] :: forall {a}. Num a => [a]</span>"
      ],
      "text/plain": [
       "[1, 2, 3] :: forall {a}. Num a => [a]"
      ]
     },
     "metadata": {},
     "output_type": "display_data"
    },
    {
     "data": {
      "text/html": [
       "<style>/* Styles used for the Hoogle display in the pager */\n",
       ".hoogle-doc {\n",
       "display: block;\n",
       "padding-bottom: 1.3em;\n",
       "padding-left: 0.4em;\n",
       "}\n",
       ".hoogle-code {\n",
       "display: block;\n",
       "font-family: monospace;\n",
       "white-space: pre;\n",
       "}\n",
       ".hoogle-text {\n",
       "display: block;\n",
       "}\n",
       ".hoogle-name {\n",
       "color: green;\n",
       "font-weight: bold;\n",
       "}\n",
       ".hoogle-head {\n",
       "font-weight: bold;\n",
       "}\n",
       ".hoogle-sub {\n",
       "display: block;\n",
       "margin-left: 0.4em;\n",
       "}\n",
       ".hoogle-package {\n",
       "font-weight: bold;\n",
       "font-style: italic;\n",
       "}\n",
       ".hoogle-module {\n",
       "font-weight: bold;\n",
       "}\n",
       ".hoogle-class {\n",
       "font-weight: bold;\n",
       "}\n",
       "\n",
       ".get-type {\n",
       "color: green;\n",
       "font-weight: bold;\n",
       "font-family: monospace;\n",
       "display: block;\n",
       "white-space: pre-wrap;\n",
       "}\n",
       ".show-type {\n",
       "color: green;\n",
       "font-weight: bold;\n",
       "font-family: monospace;\n",
       "margin-left: 1em;\n",
       "}\n",
       ".mono {\n",
       "font-family: monospace;\n",
       "display: block;\n",
       "}\n",
       ".err-msg {\n",
       "color: red;\n",
       "font-style: italic;\n",
       "font-family: monospace;\n",
       "white-space: pre;\n",
       "display: block;\n",
       "}\n",
       "#unshowable {\n",
       "color: red;\n",
       "font-weight: bold;\n",
       "}\n",
       ".err-msg.in.collapse {\n",
       "padding-top: 0.7em;\n",
       "}\n",
       "\n",
       ".highlight-code {\n",
       "white-space: pre;\n",
       "font-family: monospace;\n",
       "}\n",
       "\n",
       ".suggestion-warning { \n",
       "font-weight: bold;\n",
       "color: rgb(200, 130, 0);\n",
       "}\n",
       ".suggestion-error { \n",
       "font-weight: bold;\n",
       "color: red;\n",
       "}\n",
       ".suggestion-name {\n",
       "font-weight: bold;\n",
       "}\n",
       "\n",
       "</style><span class='get-type'>[1, 2.0, 3] :: forall {a}. Fractional a => [a]</span>"
      ],
      "text/plain": [
       "[1, 2.0, 3] :: forall {a}. Fractional a => [a]"
      ]
     },
     "metadata": {},
     "output_type": "display_data"
    },
    {
     "data": {
      "text/html": [
       "<style>/* Styles used for the Hoogle display in the pager */\n",
       ".hoogle-doc {\n",
       "display: block;\n",
       "padding-bottom: 1.3em;\n",
       "padding-left: 0.4em;\n",
       "}\n",
       ".hoogle-code {\n",
       "display: block;\n",
       "font-family: monospace;\n",
       "white-space: pre;\n",
       "}\n",
       ".hoogle-text {\n",
       "display: block;\n",
       "}\n",
       ".hoogle-name {\n",
       "color: green;\n",
       "font-weight: bold;\n",
       "}\n",
       ".hoogle-head {\n",
       "font-weight: bold;\n",
       "}\n",
       ".hoogle-sub {\n",
       "display: block;\n",
       "margin-left: 0.4em;\n",
       "}\n",
       ".hoogle-package {\n",
       "font-weight: bold;\n",
       "font-style: italic;\n",
       "}\n",
       ".hoogle-module {\n",
       "font-weight: bold;\n",
       "}\n",
       ".hoogle-class {\n",
       "font-weight: bold;\n",
       "}\n",
       "\n",
       ".get-type {\n",
       "color: green;\n",
       "font-weight: bold;\n",
       "font-family: monospace;\n",
       "display: block;\n",
       "white-space: pre-wrap;\n",
       "}\n",
       ".show-type {\n",
       "color: green;\n",
       "font-weight: bold;\n",
       "font-family: monospace;\n",
       "margin-left: 1em;\n",
       "}\n",
       ".mono {\n",
       "font-family: monospace;\n",
       "display: block;\n",
       "}\n",
       ".err-msg {\n",
       "color: red;\n",
       "font-style: italic;\n",
       "font-family: monospace;\n",
       "white-space: pre;\n",
       "display: block;\n",
       "}\n",
       "#unshowable {\n",
       "color: red;\n",
       "font-weight: bold;\n",
       "}\n",
       ".err-msg.in.collapse {\n",
       "padding-top: 0.7em;\n",
       "}\n",
       "\n",
       ".highlight-code {\n",
       "white-space: pre;\n",
       "font-family: monospace;\n",
       "}\n",
       "\n",
       ".suggestion-warning { \n",
       "font-weight: bold;\n",
       "color: rgb(200, 130, 0);\n",
       "}\n",
       ".suggestion-error { \n",
       "font-weight: bold;\n",
       "color: red;\n",
       "}\n",
       ".suggestion-name {\n",
       "font-weight: bold;\n",
       "}\n",
       "\n",
       "</style><span class='get-type'>[1, 2.0 :: Double, 3] :: [Double]</span>"
      ],
      "text/plain": [
       "[1, 2.0 :: Double, 3] :: [Double]"
      ]
     },
     "metadata": {},
     "output_type": "display_data"
    },
    {
     "data": {
      "text/html": [
       "<style>/* Styles used for the Hoogle display in the pager */\n",
       ".hoogle-doc {\n",
       "display: block;\n",
       "padding-bottom: 1.3em;\n",
       "padding-left: 0.4em;\n",
       "}\n",
       ".hoogle-code {\n",
       "display: block;\n",
       "font-family: monospace;\n",
       "white-space: pre;\n",
       "}\n",
       ".hoogle-text {\n",
       "display: block;\n",
       "}\n",
       ".hoogle-name {\n",
       "color: green;\n",
       "font-weight: bold;\n",
       "}\n",
       ".hoogle-head {\n",
       "font-weight: bold;\n",
       "}\n",
       ".hoogle-sub {\n",
       "display: block;\n",
       "margin-left: 0.4em;\n",
       "}\n",
       ".hoogle-package {\n",
       "font-weight: bold;\n",
       "font-style: italic;\n",
       "}\n",
       ".hoogle-module {\n",
       "font-weight: bold;\n",
       "}\n",
       ".hoogle-class {\n",
       "font-weight: bold;\n",
       "}\n",
       "\n",
       ".get-type {\n",
       "color: green;\n",
       "font-weight: bold;\n",
       "font-family: monospace;\n",
       "display: block;\n",
       "white-space: pre-wrap;\n",
       "}\n",
       ".show-type {\n",
       "color: green;\n",
       "font-weight: bold;\n",
       "font-family: monospace;\n",
       "margin-left: 1em;\n",
       "}\n",
       ".mono {\n",
       "font-family: monospace;\n",
       "display: block;\n",
       "}\n",
       ".err-msg {\n",
       "color: red;\n",
       "font-style: italic;\n",
       "font-family: monospace;\n",
       "white-space: pre;\n",
       "display: block;\n",
       "}\n",
       "#unshowable {\n",
       "color: red;\n",
       "font-weight: bold;\n",
       "}\n",
       ".err-msg.in.collapse {\n",
       "padding-top: 0.7em;\n",
       "}\n",
       "\n",
       ".highlight-code {\n",
       "white-space: pre;\n",
       "font-family: monospace;\n",
       "}\n",
       "\n",
       ".suggestion-warning { \n",
       "font-weight: bold;\n",
       "color: rgb(200, 130, 0);\n",
       "}\n",
       ".suggestion-error { \n",
       "font-weight: bold;\n",
       "color: red;\n",
       "}\n",
       ".suggestion-name {\n",
       "font-weight: bold;\n",
       "}\n",
       "\n",
       "</style><span class='get-type'>[] :: forall a. [a]</span>"
      ],
      "text/plain": [
       "[] :: forall a. [a]"
      ]
     },
     "metadata": {},
     "output_type": "display_data"
    }
   ],
   "source": [
    "-- Checking the types of some lists\n",
    ":t [1, 2, 3]\n",
    ":t [1, 2.0, 3]\n",
    ":t [1, 2.0 :: Double, 3]\n",
    ":t []"
   ]
  },
  {
   "cell_type": "code",
   "execution_count": 2,
   "id": "69b0b05c",
   "metadata": {},
   "outputs": [
    {
     "data": {
      "text/html": [
       "<style>/* Styles used for the Hoogle display in the pager */\n",
       ".hoogle-doc {\n",
       "display: block;\n",
       "padding-bottom: 1.3em;\n",
       "padding-left: 0.4em;\n",
       "}\n",
       ".hoogle-code {\n",
       "display: block;\n",
       "font-family: monospace;\n",
       "white-space: pre;\n",
       "}\n",
       ".hoogle-text {\n",
       "display: block;\n",
       "}\n",
       ".hoogle-name {\n",
       "color: green;\n",
       "font-weight: bold;\n",
       "}\n",
       ".hoogle-head {\n",
       "font-weight: bold;\n",
       "}\n",
       ".hoogle-sub {\n",
       "display: block;\n",
       "margin-left: 0.4em;\n",
       "}\n",
       ".hoogle-package {\n",
       "font-weight: bold;\n",
       "font-style: italic;\n",
       "}\n",
       ".hoogle-module {\n",
       "font-weight: bold;\n",
       "}\n",
       ".hoogle-class {\n",
       "font-weight: bold;\n",
       "}\n",
       ".get-type {\n",
       "color: green;\n",
       "font-weight: bold;\n",
       "font-family: monospace;\n",
       "display: block;\n",
       "white-space: pre-wrap;\n",
       "}\n",
       ".show-type {\n",
       "color: green;\n",
       "font-weight: bold;\n",
       "font-family: monospace;\n",
       "margin-left: 1em;\n",
       "}\n",
       ".mono {\n",
       "font-family: monospace;\n",
       "display: block;\n",
       "}\n",
       ".err-msg {\n",
       "color: red;\n",
       "font-style: italic;\n",
       "font-family: monospace;\n",
       "white-space: pre;\n",
       "display: block;\n",
       "}\n",
       "#unshowable {\n",
       "color: red;\n",
       "font-weight: bold;\n",
       "}\n",
       ".err-msg.in.collapse {\n",
       "padding-top: 0.7em;\n",
       "}\n",
       ".highlight-code {\n",
       "white-space: pre;\n",
       "font-family: monospace;\n",
       "}\n",
       ".suggestion-warning { \n",
       "font-weight: bold;\n",
       "color: rgb(200, 130, 0);\n",
       "}\n",
       ".suggestion-error { \n",
       "font-weight: bold;\n",
       "color: red;\n",
       "}\n",
       ".suggestion-name {\n",
       "font-weight: bold;\n",
       "}\n",
       "</style><span class='get-type'>[addSubstract, (+), (-)] :: [Int -> Int -> Int]</span>"
      ],
      "text/plain": [
       "[addSubstract, (+), (-)] :: [Int -> Int -> Int]"
      ]
     },
     "metadata": {},
     "output_type": "display_data"
    }
   ],
   "source": [
    "-- Even list of functions can be declared\n",
    "-- Declaring a function Int -> Int -> Int \n",
    "addSubstract:: Int -> Int -> Int\n",
    "addSubstract x y = if x < y then x + y else x - y\n",
    "-- Notice all of them must have the same type, in this case Int -> Int -> Int\n",
    ":t [addSubstract, (+), (-)]"
   ]
  },
  {
   "cell_type": "markdown",
   "id": "3e2ca869",
   "metadata": {},
   "source": [
    "# Ways to declare lists\n",
    "\n",
    "We have several ways to declare lists, the simplest ones are enumerating the elements (like in the examples above) or using ranges: \n",
    "\n",
    "* `[a..b]` generates all the elements between `a` and `b`\n",
    "* `[a,b..c]` generates all the elements between `a` and `c` following the arithmetic progression `a+b`, `a+2b`, etc."
   ]
  },
  {
   "cell_type": "code",
   "execution_count": 3,
   "id": "8c9ad3b7",
   "metadata": {},
   "outputs": [
    {
     "data": {
      "text/plain": [
       "[1,2,3,4,5,6,7,8,9,10]"
      ]
     },
     "metadata": {},
     "output_type": "display_data"
    },
    {
     "data": {
      "text/plain": [
       "\"abcdefg\""
      ]
     },
     "metadata": {},
     "output_type": "display_data"
    },
    {
     "data": {
      "text/plain": [
       "\"ABCDEFGHIJKLMNOPQRSTUVWXYZ[\\\\]^_`abcdefg\""
      ]
     },
     "metadata": {},
     "output_type": "display_data"
    },
    {
     "data": {
      "text/plain": [
       "[0,5,10,15,20,25,30,35,40,45,50,55,60,65,70,75,80,85,90,95,100]"
      ]
     },
     "metadata": {},
     "output_type": "display_data"
    },
    {
     "data": {
      "text/plain": [
       "\"acegikmoqsuwy\""
      ]
     },
     "metadata": {},
     "output_type": "display_data"
    },
    {
     "data": {
      "text/plain": [
       "[]"
      ]
     },
     "metadata": {},
     "output_type": "display_data"
    },
    {
     "data": {
      "text/plain": [
       "[10,9,8,7,6,5,4,3,2,1]"
      ]
     },
     "metadata": {},
     "output_type": "display_data"
    },
    {
     "data": {
      "text/plain": [
       "[0.1,0.2,0.30000000000000004,0.4,0.5,0.6,0.7000000000000001,0.8,0.9,1.0]"
      ]
     },
     "metadata": {},
     "output_type": "display_data"
    }
   ],
   "source": [
    "[1..10]\n",
    "['a'..'g']\n",
    "['A'..'g']\n",
    "[0,5..100]\n",
    "['a','c'..'z']\n",
    "-- Not working\n",
    "[10..1]\n",
    "-- This way works\n",
    "[10,9..1]\n",
    "-- Real numbers precision problem\n",
    "[0.1,0.2..1]"
   ]
  },
  {
   "cell_type": "markdown",
   "id": "863340df",
   "metadata": {},
   "source": [
    "**Exercise 1:** Create a function that returns a list with all the numbers from 100 to 0 in steps of 5"
   ]
  },
  {
   "cell_type": "code",
   "execution_count": 8,
   "id": "13e0169b",
   "metadata": {},
   "outputs": [
    {
     "data": {
      "text/plain": [
       "[100,95,90,85,80,75,70,65,60,55,50,45,40,35,30,25,20,15,10,5,0]"
      ]
     },
     "metadata": {},
     "output_type": "display_data"
    }
   ],
   "source": [
    "list1 = [100,95..0]\n",
    "list1"
   ]
  },
  {
   "cell_type": "markdown",
   "id": "7269d311",
   "metadata": {},
   "source": [
    "# Adding elements to lists\n",
    "\n",
    "Haskell uses linked lists. The less computational way to add elements to a linked list is to do it at the beginning of the list. The *cons* operator `:` allows to add an element as header of a list: `a:[b,c]` creates the list `[a, b, c]`. Actually, any non-empty list can be seen as `x:xs`, where `x` is the *head* (a single element) and `xs` the *tail* (the sublist resulting of removing the first element).\n",
    "\n",
    "We can also use `++` to concatenate lists. `concat [list]` will take a list of lists and *flatten* it."
   ]
  },
  {
   "cell_type": "code",
   "execution_count": 18,
   "id": "f02ce91c",
   "metadata": {},
   "outputs": [
    {
     "data": {
      "text/plain": [
       "[1,2,3]"
      ]
     },
     "metadata": {},
     "output_type": "display_data"
    },
    {
     "data": {
      "text/plain": [
       "[1,2,3,4,5,6]"
      ]
     },
     "metadata": {},
     "output_type": "display_data"
    },
    {
     "data": {
      "text/plain": [
       "1"
      ]
     },
     "metadata": {},
     "output_type": "display_data"
    },
    {
     "data": {
      "text/plain": [
       "[2,3,4,5,6,7,8,9,10,11,12,13,14,15,16,17,18,19,20,21,22,23,24,25]"
      ]
     },
     "metadata": {},
     "output_type": "display_data"
    },
    {
     "data": {
      "text/plain": [
       "4"
      ]
     },
     "metadata": {},
     "output_type": "display_data"
    },
    {
     "data": {
      "text/plain": [
       "[]"
      ]
     },
     "metadata": {},
     "output_type": "display_data"
    },
    {
     "ename": "",
     "evalue": "",
     "output_type": "error",
     "traceback": [
      "<interactive>:1:1-9: Non-exhaustive patterns in x : xs"
     ]
    }
   ],
   "source": [
    "-- The first element is added to a previous list\n",
    "1:[2, 3]\n",
    "-- It can be done with more than one\n",
    "1:2:3:[4, 5, 6]\n",
    "-- Splitting the list in head and tail\n",
    "x:xs = [1..25]\n",
    "-- Notice x is an element but xs is a list\n",
    "x\n",
    "xs\n",
    "-- With a singleton list\n",
    "x:xs = [4]\n",
    "x\n",
    "xs\n",
    "-- With the empty list it is not working\n",
    "x:xs = []\n",
    "-- Notice lazy evaluation, the previous assignment works, it fails here when it needs to be evaluated\n",
    "x\n",
    "xs"
   ]
  },
  {
   "cell_type": "code",
   "execution_count": 9,
   "id": "1e2a25e9",
   "metadata": {},
   "outputs": [
    {
     "data": {
      "text/plain": [
       "[1,2,2,3]"
      ]
     },
     "metadata": {},
     "output_type": "display_data"
    },
    {
     "data": {
      "text/plain": [
       "[[1],[2],[3]]"
      ]
     },
     "metadata": {},
     "output_type": "display_data"
    },
    {
     "data": {
      "text/plain": [
       "[1,2,3,4,5,6,7]"
      ]
     },
     "metadata": {},
     "output_type": "display_data"
    }
   ],
   "source": [
    "[1,2] ++ [2,3]\n",
    "[1]:[[2],[3]]\n",
    "concat [1:[2,3], [4, 5], 6:[7]]"
   ]
  },
  {
   "cell_type": "markdown",
   "id": "d06431ee",
   "metadata": {},
   "source": [
    "**Exercise 2** Create a second function using the previous one, that adds elements to the previous list so it starts in 105 and ends in -5"
   ]
  },
  {
   "cell_type": "code",
   "execution_count": 11,
   "id": "4713f040",
   "metadata": {},
   "outputs": [
    {
     "data": {
      "text/plain": [
       "[105,100,95,90,85,80,75,70,65,60,55,50,45,40,35,30,25,20,15,10,5,0,-5]"
      ]
     },
     "metadata": {},
     "output_type": "display_data"
    }
   ],
   "source": [
    "list2 = 105 : list1 ++ [-5]\n",
    "list2"
   ]
  },
  {
   "cell_type": "code",
   "execution_count": 12,
   "id": "4fd944a4",
   "metadata": {},
   "outputs": [
    {
     "data": {
      "text/plain": [
       "[105,105,105,105,105,105,105,105,105,105,105,105,105,105,105,105,105,105,105,105,105,105,105,105,105,105,105,105,105,105,105,105,105,105,105,105,105,105,105,105,105,105,105,105,105,105,105,105,105,105,105,105,105,105,105,105,105,105,105,105,105,105,105,105,105,105,105,105,105,105,105,105,105,105,105,105,105,105,105,105,105,105,105,105,105,105,105,105,105,105,105,105,105,105,105,105,105,105,105,105,105,105,105,105,105,105,105,105,105,105,105,105,105,105,105,105,105,105,105,105,105,105,105,105,105,105,105,105,105,105,105,105,105,105,105,105,105,105,105,105,105,105,105,105,105,105,105,105,105,105,105,105,105,105,105,105,105,105,105,105,105,105,105,105,105,105,105,105,105,105,105,105,105,105,105,105,105,105,105,105,105,105,105,105,105,105,105,105,105,105,105,105,105,105,105,105,105,105,105,105,105,105,105,105,105,105,105,105,105,105,105,105,105,105,105,105,105,105,105,105,105,105]"
      ]
     },
     "metadata": {},
     "output_type": "display_data"
    }
   ],
   "source": [
    "-- Be careful, even if the previous functions look like variables in other languages, they are not\n",
    "-- This generates an infinite list with 105, 105... list1, [-5]\n",
    "list1 = 105 : list1 ++ [5]\n",
    "-- Lazy evaluation implies there is no problem on having infinite lists.\n",
    "-- But do not show them or you will need to stop the program.\n",
    "-- When working with infinite lists we usually use take to select parts of them\n",
    "take 222 list1\n",
    "-- As this function returns an infinite list, length will run forever\n",
    "--length list1"
   ]
  },
  {
   "cell_type": "markdown",
   "id": "3aa9abe2",
   "metadata": {},
   "source": [
    "## Using `x:xs` in functions\n",
    "\n",
    "As we have seen, it is common to describe a list as `x:xs` meaning the *head* and the *tail* of of the list. This is quite useful to use patterns to declare functions that operate with the elements of a list."
   ]
  },
  {
   "cell_type": "code",
   "execution_count": 13,
   "id": "98c4c1bd",
   "metadata": {},
   "outputs": [
    {
     "data": {
      "text/plain": [
       "5"
      ]
     },
     "metadata": {},
     "output_type": "display_data"
    },
    {
     "data": {
      "text/plain": [
       "5"
      ]
     },
     "metadata": {},
     "output_type": "display_data"
    },
    {
     "ename": "",
     "evalue": "",
     "output_type": "error",
     "traceback": [
      "<interactive>:2:1-31: Non-exhaustive patterns in function addFirstSecond"
     ]
    }
   ],
   "source": [
    "--- Function that adds the two first elements of a list of Integral\n",
    "-- Not all the patterns considered\n",
    "addFirstSecond :: Integral a => [a] -> a\n",
    "addFirstSecond (x:y:xs) = x + y\n",
    "\n",
    "addFirstSecond [1, 4, 2]\n",
    "addFirstSecond [1, 4]\n",
    "-- Those patterns are not covered\n",
    "addFirstSecond [1]\n",
    "addFirstSecond []"
   ]
  },
  {
   "cell_type": "code",
   "execution_count": 14,
   "id": "90d518cc",
   "metadata": {},
   "outputs": [
    {
     "data": {
      "text/plain": [
       "5"
      ]
     },
     "metadata": {},
     "output_type": "display_data"
    },
    {
     "data": {
      "text/plain": [
       "5"
      ]
     },
     "metadata": {},
     "output_type": "display_data"
    },
    {
     "data": {
      "text/plain": [
       "1"
      ]
     },
     "metadata": {},
     "output_type": "display_data"
    },
    {
     "data": {
      "text/plain": [
       "0"
      ]
     },
     "metadata": {},
     "output_type": "display_data"
    }
   ],
   "source": [
    "--- Function that adds the two first elements of a list of Integral\n",
    "-- All patterns considered\n",
    "addFirstSecond :: Integral a => [a] -> a\n",
    "-- The order of the patterns is not relevant as they consider different cases\n",
    "addFirstSecond [] = 0\n",
    "addFirstSecond [x] = x\n",
    "addFirstSecond (x:y:xs) = x + y\n",
    "\n",
    "\n",
    "\n",
    "addFirstSecond [1, 4, 2]\n",
    "addFirstSecond [1, 4]\n",
    "addFirstSecond [1]\n",
    "addFirstSecond []"
   ]
  },
  {
   "cell_type": "code",
   "execution_count": null,
   "id": "ef75b71f-0f23-4da8-9c39-e2fd15c92358",
   "metadata": {},
   "outputs": [
    {
     "data": {
      "text/plain": [
       "5"
      ]
     },
     "metadata": {},
     "output_type": "display_data"
    },
    {
     "data": {
      "text/plain": [
       "5"
      ]
     },
     "metadata": {},
     "output_type": "display_data"
    },
    {
     "data": {
      "text/plain": [
       "1"
      ]
     },
     "metadata": {},
     "output_type": "display_data"
    },
    {
     "data": {
      "text/plain": [
       "0"
      ]
     },
     "metadata": {},
     "output_type": "display_data"
    },
    {
     "data": {
      "text/plain": [
       "5"
      ]
     },
     "metadata": {},
     "output_type": "display_data"
    },
    {
     "data": {
      "text/plain": [
       "5"
      ]
     },
     "metadata": {},
     "output_type": "display_data"
    },
    {
     "data": {
      "text/plain": [
       "1"
      ]
     },
     "metadata": {},
     "output_type": "display_data"
    },
    {
     "data": {
      "text/plain": [
       "0"
      ]
     },
     "metadata": {},
     "output_type": "display_data"
    }
   ],
   "source": [
    "-- Alternatives to the previous one\n",
    "addFirstSecond' :: Integral a => [a] -> a\n",
    "addFirstSecond' x = sum (take 2 x)\n",
    "\n",
    "addFirstSecond'' :: Integral a => [a] -> a\n",
    "addFirstSecond'' [] = 0\n",
    "addFirstSecond'' [x] = x\n",
    "addFirstSecond'' x = head x + head (tail x)\n",
    "\n",
    "addFirstSecond' [1, 4, 2]\n",
    "addFirstSecond' [1, 4]\n",
    "addFirstSecond' [1]\n",
    "addFirstSecond' []\n",
    "\n",
    "addFirstSecond'' [1, 4, 2]\n",
    "addFirstSecond'' [1, 4]\n",
    "addFirstSecond'' [1]\n",
    "addFirstSecond'' []"
   ]
  },
  {
   "cell_type": "markdown",
   "id": "87254a51",
   "metadata": {},
   "source": [
    "**Exercise 3** Create a function that takes a list and creates a tuple, where the first element is a list with the header of the list, and the second element is the tail. Consider all the cases. Try to specify also the type."
   ]
  },
  {
   "cell_type": "code",
   "execution_count": 19,
   "id": "b9779680",
   "metadata": {},
   "outputs": [
    {
     "data": {
      "text/plain": [
       "([1],[2,3])"
      ]
     },
     "metadata": {},
     "output_type": "display_data"
    },
    {
     "data": {
      "text/plain": [
       "([2],[])"
      ]
     },
     "metadata": {},
     "output_type": "display_data"
    },
    {
     "data": {
      "text/plain": [
       "([],[])"
      ]
     },
     "metadata": {},
     "output_type": "display_data"
    },
    {
     "data": {
      "text/plain": [
       "([True],[False,True])"
      ]
     },
     "metadata": {},
     "output_type": "display_data"
    }
   ],
   "source": [
    "listToTuple:: [a] -> ([a], [a])\n",
    "listToTuple [] = ([] ,[] )\n",
    "listToTuple (x:xs) = ([x], xs)\n",
    "\n",
    "listToTuple [1, 2, 3]\n",
    "listToTuple [2]\n",
    "listToTuple []\n",
    "listToTuple [True, False, True]"
   ]
  },
  {
   "cell_type": "code",
   "execution_count": 4,
   "id": "183ebe3e",
   "metadata": {},
   "outputs": [
    {
     "data": {
      "text/plain": [
       "50"
      ]
     },
     "metadata": {},
     "output_type": "display_data"
    },
    {
     "data": {
      "text/plain": [
       "[49,48,47,46,45,44,43,42,41,40,39,38,37,36,35,34,33,32,31,30,29,28,27,26,25,24,23,22,21,20,19,18,17,16,15,14,13,12,11,10,9,8,7,6,5,4,3,2,1,0]"
      ]
     },
     "metadata": {},
     "output_type": "display_data"
    },
    {
     "data": {
      "text/plain": [
       "50"
      ]
     },
     "metadata": {},
     "output_type": "display_data"
    },
    {
     "data": {
      "text/plain": [
       "49"
      ]
     },
     "metadata": {},
     "output_type": "display_data"
    },
    {
     "data": {
      "text/plain": [
       "48"
      ]
     },
     "metadata": {},
     "output_type": "display_data"
    },
    {
     "data": {
      "text/plain": [
       "[47,46,45,44,43,42,41,40,39,38,37,36,35,34,33,32,31,30,29,28,27,26,25,24,23,22,21,20,19,18,17,16,15,14,13,12,11,10,9,8,7,6,5,4,3,2,1,0]"
      ]
     },
     "metadata": {},
     "output_type": "display_data"
    }
   ],
   "source": [
    "-- Second approach using the : to decompose the list\n",
    "x:xs = [50,49..0]\n",
    "x\n",
    "xs\n",
    "-- It can be used with more than one\n",
    "elem1:elem2:elem3:xs = [50,49..0]\n",
    "elem1\n",
    "elem2\n",
    "elem3\n",
    "xs"
   ]
  },
  {
   "cell_type": "markdown",
   "id": "35bc35bd",
   "metadata": {},
   "source": [
    "**Exercise 4** Given the formal definition of the ++ operator seen in lectures:\n",
    "```\n",
    "-- If we declare an operator in () it can be used in prefix mode\n",
    "(++)::[a] -> [a] -> [a]\n",
    "-- Usually xs is used to represent a list\n",
    "[] ++ xs = xs\n",
    "-- Recursive definition\n",
    "(x:xs) ++ ys = x:(xs ++ ys)\n",
    "```\n",
    "Define the +++ operator that appends an element to a list using the `++` operator."
   ]
  },
  {
   "cell_type": "code",
   "execution_count": 20,
   "id": "5bc35920",
   "metadata": {},
   "outputs": [],
   "source": [
    "-- Signature, the first operand is a list, the second an element, the result is also a list\n",
    "(+++)::[a] -> a -> [a]\n",
    "-- Appending something to the empty list is a list of that thing\n",
    "[] +++ a =  [a]\n",
    "-- Appending to a list is concatenating a singleton list of that element to that list\n",
    "xs +++ a = xs ++ [a]"
   ]
  },
  {
   "cell_type": "code",
   "execution_count": 21,
   "id": "637dac8c",
   "metadata": {},
   "outputs": [
    {
     "data": {
      "text/plain": [
       "[1,2,3,3]"
      ]
     },
     "metadata": {},
     "output_type": "display_data"
    }
   ],
   "source": [
    "[1, 2, 3] +++ 3"
   ]
  },
  {
   "cell_type": "markdown",
   "id": "ffdb8453-301a-4b3c-bce1-8e3f82a17132",
   "metadata": {},
   "source": [
    "# Accessing list elements\n",
    "\n",
    "In addition to `x:xs`, to access the head and tail of a list, we can use `head` and `tail` functions. They have equivalents with respect to the last element: `init` (the list without the last element) and `last` (the last element). Notice that as with `x:xs` all these functions are not defined for empty lists.\n",
    "\n",
    "The `!!` operator can be used to access the element at a given position. Notice it is very inefficient as the previous elements must be traversed in order to reach the deaddTwoConsecutive."
   ]
  },
  {
   "cell_type": "code",
   "execution_count": 27,
   "id": "2f8d2de6-27af-4056-ab28-cecb60c752bb",
   "metadata": {},
   "outputs": [
    {
     "data": {
      "text/plain": [
       "1"
      ]
     },
     "metadata": {},
     "output_type": "display_data"
    },
    {
     "data": {
      "text/plain": [
       "[2,3,4]"
      ]
     },
     "metadata": {},
     "output_type": "display_data"
    },
    {
     "data": {
      "text/plain": [
       "'a'"
      ]
     },
     "metadata": {},
     "output_type": "display_data"
    },
    {
     "data": {
      "text/plain": [
       "\"\""
      ]
     },
     "metadata": {},
     "output_type": "display_data"
    },
    {
     "ename": "",
     "evalue": "",
     "output_type": "error",
     "traceback": [
      "Prelude.head: empty list\nCallStack (from HasCallStack):\n  error, called at libraries/base/GHC/List.hs:1644:3 in base:GHC.List\n  errorEmptyList, called at libraries/base/GHC/List.hs:87:11 in base:GHC.List\n  badHead, called at libraries/base/GHC/List.hs:83:28 in base:GHC.List\n  head, called at <interactive>:1:1 in interactive:Ghci1615"
     ]
    }
   ],
   "source": [
    "-- Remember those are functions, not variables\n",
    "list1 = [1, 2, 3, 4]\n",
    "list2 = ['a']\n",
    "list3 = []\n",
    "-- Here we apply a function to the output of another one\n",
    "head list1\n",
    "tail list1\n",
    "head list2\n",
    "-- The empty [char] is the empty str\n",
    "tail list2\n",
    "--- Error\n",
    "head list3\n",
    "tail list3"
   ]
  },
  {
   "cell_type": "code",
   "execution_count": 31,
   "id": "ec843eb0-d3a4-4709-8d53-053cbeda5c9a",
   "metadata": {},
   "outputs": [
    {
     "data": {
      "text/plain": [
       "[1,2,3]"
      ]
     },
     "metadata": {},
     "output_type": "display_data"
    },
    {
     "data": {
      "text/plain": [
       "4"
      ]
     },
     "metadata": {},
     "output_type": "display_data"
    },
    {
     "data": {
      "text/plain": [
       "\"\""
      ]
     },
     "metadata": {},
     "output_type": "display_data"
    },
    {
     "data": {
      "text/plain": [
       "'a'"
      ]
     },
     "metadata": {},
     "output_type": "display_data"
    },
    {
     "data": {
      "text/plain": [
       "True"
      ]
     },
     "metadata": {},
     "output_type": "display_data"
    },
    {
     "data": {
      "text/plain": [
       "True"
      ]
     },
     "metadata": {},
     "output_type": "display_data"
    }
   ],
   "source": [
    "init list1\n",
    "last list1\n",
    "init list2\n",
    "last list2\n",
    "-- For singleton lists\n",
    "head list2 == last list2\n",
    "tail list2 == init list2\n"
   ]
  },
  {
   "cell_type": "code",
   "execution_count": 37,
   "id": "bc6222c3-d84d-4dd5-8c97-74183affbfbd",
   "metadata": {},
   "outputs": [
    {
     "data": {
      "text/html": [
       "<style>/* Styles used for the Hoogle display in the pager */\n",
       ".hoogle-doc {\n",
       "display: block;\n",
       "padding-bottom: 1.3em;\n",
       "padding-left: 0.4em;\n",
       "}\n",
       ".hoogle-code {\n",
       "display: block;\n",
       "font-family: monospace;\n",
       "white-space: pre;\n",
       "}\n",
       ".hoogle-text {\n",
       "display: block;\n",
       "}\n",
       ".hoogle-name {\n",
       "color: green;\n",
       "font-weight: bold;\n",
       "}\n",
       ".hoogle-head {\n",
       "font-weight: bold;\n",
       "}\n",
       ".hoogle-sub {\n",
       "display: block;\n",
       "margin-left: 0.4em;\n",
       "}\n",
       ".hoogle-package {\n",
       "font-weight: bold;\n",
       "font-style: italic;\n",
       "}\n",
       ".hoogle-module {\n",
       "font-weight: bold;\n",
       "}\n",
       ".hoogle-class {\n",
       "font-weight: bold;\n",
       "}\n",
       ".get-type {\n",
       "color: green;\n",
       "font-weight: bold;\n",
       "font-family: monospace;\n",
       "display: block;\n",
       "white-space: pre-wrap;\n",
       "}\n",
       ".show-type {\n",
       "color: green;\n",
       "font-weight: bold;\n",
       "font-family: monospace;\n",
       "margin-left: 1em;\n",
       "}\n",
       ".mono {\n",
       "font-family: monospace;\n",
       "display: block;\n",
       "}\n",
       ".err-msg {\n",
       "color: red;\n",
       "font-style: italic;\n",
       "font-family: monospace;\n",
       "white-space: pre;\n",
       "display: block;\n",
       "}\n",
       "#unshowable {\n",
       "color: red;\n",
       "font-weight: bold;\n",
       "}\n",
       ".err-msg.in.collapse {\n",
       "padding-top: 0.7em;\n",
       "}\n",
       ".highlight-code {\n",
       "white-space: pre;\n",
       "font-family: monospace;\n",
       "}\n",
       ".suggestion-warning { \n",
       "font-weight: bold;\n",
       "color: rgb(200, 130, 0);\n",
       "}\n",
       ".suggestion-error { \n",
       "font-weight: bold;\n",
       "color: red;\n",
       "}\n",
       ".suggestion-name {\n",
       "font-weight: bold;\n",
       "}\n",
       "</style><div class=\"suggestion-name\" style=\"clear:both;\">Use head</div><div class=\"suggestion-row\" style=\"float: left;\"><div class=\"suggestion-warning\">Found:</div><div class=\"highlight-code\" id=\"haskell\">list1 !! 0</div></div><div class=\"suggestion-row\" style=\"float: left;\"><div class=\"suggestion-warning\">Why Not:</div><div class=\"highlight-code\" id=\"haskell\">head list1</div></div>"
      ],
      "text/plain": [
       "Line 2: Use head\n",
       "Found:\n",
       "list1 !! 0\n",
       "Why not:\n",
       "head list1"
      ]
     },
     "metadata": {},
     "output_type": "display_data"
    },
    {
     "data": {
      "text/plain": [
       "1"
      ]
     },
     "metadata": {},
     "output_type": "display_data"
    },
    {
     "data": {
      "text/plain": [
       "2"
      ]
     },
     "metadata": {},
     "output_type": "display_data"
    },
    {
     "data": {
      "text/plain": [
       "4"
      ]
     },
     "metadata": {},
     "output_type": "display_data"
    },
    {
     "ename": "",
     "evalue": "",
     "output_type": "error",
     "traceback": [
      "Prelude.!!: index too large\nCallStack (from HasCallStack):\n  error, called at libraries/base/GHC/List.hs:1366:14 in base:GHC.List\n  tooLarge, called at libraries/base/GHC/List.hs:1376:50 in base:GHC.List\n  !!, called at <interactive>:1:7 in interactive:Ghci2360"
     ]
    }
   ],
   "source": [
    "-- As usual indexes start in 0\n",
    "list1 !! 0\n",
    "list1 !! 1\n",
    "-- An equivalent to last\n",
    "list1 !! (length list1 - 1)\n",
    "-- Out of bounds\n",
    "list1 !! length list1 "
   ]
  },
  {
   "cell_type": "markdown",
   "id": "a4ef3bf8-9ffe-407e-bddf-03dbfa0b2de9",
   "metadata": {},
   "source": [
    "# Sublists\n",
    "\n",
    "In addition to `tail` and `init`, we can use `take n` and `drop n` to get portions of a list. They work with the empty list and even with infinite lists.\n",
    "\n",
    "Meanwhile `splitAt` creates a tuple with the two parts of the list resulting from splitting the list at the given position. We can use `fst` and `snd` to get each component of a tuple."
   ]
  },
  {
   "cell_type": "code",
   "execution_count": 54,
   "id": "2fe94be9-d89c-4db6-a2f4-a63fe0386583",
   "metadata": {},
   "outputs": [
    {
     "data": {
      "text/html": [
       "<style>/* Styles used for the Hoogle display in the pager */\n",
       ".hoogle-doc {\n",
       "display: block;\n",
       "padding-bottom: 1.3em;\n",
       "padding-left: 0.4em;\n",
       "}\n",
       ".hoogle-code {\n",
       "display: block;\n",
       "font-family: monospace;\n",
       "white-space: pre;\n",
       "}\n",
       ".hoogle-text {\n",
       "display: block;\n",
       "}\n",
       ".hoogle-name {\n",
       "color: green;\n",
       "font-weight: bold;\n",
       "}\n",
       ".hoogle-head {\n",
       "font-weight: bold;\n",
       "}\n",
       ".hoogle-sub {\n",
       "display: block;\n",
       "margin-left: 0.4em;\n",
       "}\n",
       ".hoogle-package {\n",
       "font-weight: bold;\n",
       "font-style: italic;\n",
       "}\n",
       ".hoogle-module {\n",
       "font-weight: bold;\n",
       "}\n",
       ".hoogle-class {\n",
       "font-weight: bold;\n",
       "}\n",
       ".get-type {\n",
       "color: green;\n",
       "font-weight: bold;\n",
       "font-family: monospace;\n",
       "display: block;\n",
       "white-space: pre-wrap;\n",
       "}\n",
       ".show-type {\n",
       "color: green;\n",
       "font-weight: bold;\n",
       "font-family: monospace;\n",
       "margin-left: 1em;\n",
       "}\n",
       ".mono {\n",
       "font-family: monospace;\n",
       "display: block;\n",
       "}\n",
       ".err-msg {\n",
       "color: red;\n",
       "font-style: italic;\n",
       "font-family: monospace;\n",
       "white-space: pre;\n",
       "display: block;\n",
       "}\n",
       "#unshowable {\n",
       "color: red;\n",
       "font-weight: bold;\n",
       "}\n",
       ".err-msg.in.collapse {\n",
       "padding-top: 0.7em;\n",
       "}\n",
       ".highlight-code {\n",
       "white-space: pre;\n",
       "font-family: monospace;\n",
       "}\n",
       ".suggestion-warning { \n",
       "font-weight: bold;\n",
       "color: rgb(200, 130, 0);\n",
       "}\n",
       ".suggestion-error { \n",
       "font-weight: bold;\n",
       "color: red;\n",
       "}\n",
       ".suggestion-name {\n",
       "font-weight: bold;\n",
       "}\n",
       "</style><span class='get-type'>list3 :: forall {a}. (Num a, Enum a) => [a]</span>"
      ],
      "text/plain": [
       "list3 :: forall {a}. (Num a, Enum a) => [a]"
      ]
     },
     "metadata": {},
     "output_type": "display_data"
    },
    {
     "data": {
      "text/plain": [
       "[1,2,3,4,5,6,7,8,9,10,11,12,13,14,15,16,17,18,19,20]"
      ]
     },
     "metadata": {},
     "output_type": "display_data"
    },
    {
     "data": {
      "text/plain": [
       "[21,22,23,24,25,26,27,28,29,30]"
      ]
     },
     "metadata": {},
     "output_type": "display_data"
    },
    {
     "data": {
      "text/plain": [
       "[6,7,8,9,10,11,12,13,14,15,16,17,18,19,20]"
      ]
     },
     "metadata": {},
     "output_type": "display_data"
    }
   ],
   "source": [
    "-- Infinite list\n",
    "list3 = [1..]\n",
    "-- Notice the type\n",
    ":t list3\n",
    "take 20 list3\n",
    "-- this is also an infinite list\n",
    "list4 = drop 20 list3\n",
    "take 10 list4\n",
    "-- They can be combined\n",
    "drop 5 (take 20 list3)"
   ]
  },
  {
   "cell_type": "code",
   "execution_count": 61,
   "id": "a2b53ae8-22c9-4e01-9c31-55938ab93aed",
   "metadata": {},
   "outputs": [
    {
     "data": {
      "text/plain": [
       "([1,2,3,4,5],[6,7,8,9,10,11,12,13,14,15])"
      ]
     },
     "metadata": {},
     "output_type": "display_data"
    },
    {
     "data": {
      "text/plain": [
       "[1,2,3,4,5]"
      ]
     },
     "metadata": {},
     "output_type": "display_data"
    },
    {
     "data": {
      "text/plain": [
       "[6,7,8,9,10,11,12,13,14,15]"
      ]
     },
     "metadata": {},
     "output_type": "display_data"
    },
    {
     "data": {
      "text/plain": [
       "[1,2,3,4,5,6,7,8,9,10]"
      ]
     },
     "metadata": {},
     "output_type": "display_data"
    }
   ],
   "source": [
    "--- Splitting\n",
    "tuple = splitAt 5 (take 15 list3)\n",
    "tuple\n",
    "-- To get its parts\n",
    "fst tuple\n",
    "snd tuple\n",
    "-- It can be used with infinite lists, but do not show the second part of the tuple!\n",
    "tuple2 = splitAt 10 list3\n",
    "fst tuple2"
   ]
  },
  {
   "cell_type": "markdown",
   "id": "707c65f9-5aaa-4416-9226-0fc61bed9db7",
   "metadata": {},
   "source": [
    "# Higher order functions over lists\n",
    "\n",
    "The two most important higher order functions (functions that apply functions) are `map` and `filter`:\n",
    "\n",
    "* `map function list` applies a function over all the elements of a list and returns the resulting list. Currently we can use it only with single input functions (until we see lambda functions)\n",
    "* `filter predicate list` returns a list with just the elements that fulfill that predicate."
   ]
  },
  {
   "cell_type": "code",
   "execution_count": 79,
   "id": "d5183615-0113-4165-95ba-6967dfda82fa",
   "metadata": {},
   "outputs": [
    {
     "data": {
      "text/plain": [
       "[False,True,False,True,False,True]"
      ]
     },
     "metadata": {},
     "output_type": "display_data"
    },
    {
     "data": {
      "text/plain": [
       "[True,True,True,True,True,True,False,False,False,False]"
      ]
     },
     "metadata": {},
     "output_type": "display_data"
    },
    {
     "data": {
      "text/plain": [
       "[1,3]"
      ]
     },
     "metadata": {},
     "output_type": "display_data"
    },
    {
     "data": {
      "text/plain": [
       "[[2,1],[4,3]]"
      ]
     },
     "metadata": {},
     "output_type": "display_data"
    },
    {
     "data": {
      "text/plain": [
       "[False,False,True,True,True,True,False,False,False,False]"
      ]
     },
     "metadata": {},
     "output_type": "display_data"
    },
    {
     "data": {
      "text/plain": [
       "[]"
      ]
     },
     "metadata": {},
     "output_type": "display_data"
    }
   ],
   "source": [
    "map even [1, 2, 3, 4, 5, 6]\n",
    "-- We can use our own functions\n",
    "positive :: (Num a, Ord a) => a -> Bool\n",
    "positive x = x > 0\n",
    "\n",
    "positives :: (Num a, Ord a) => [a] -> [Bool]\n",
    "positives = map positive\n",
    "\n",
    "positives  [1, 2, 3, 4, 5, 6, 0, -1, -2, -3.4]\n",
    "\n",
    "-- Functions over lists can be mapped to sublists\n",
    "map head [[1,2], [3,4]]\n",
    "map reverse [[1,2], [3,4]]"
   ]
  },
  {
   "cell_type": "code",
   "execution_count": 85,
   "id": "a716fde4-7197-48b8-bcc6-91971d014a6f",
   "metadata": {},
   "outputs": [
    {
     "data": {
      "text/plain": [
       "[1.0,2.0,3.0,4.0,5.0,6.0]"
      ]
     },
     "metadata": {},
     "output_type": "display_data"
    },
    {
     "data": {
      "text/plain": [
       "[(11,2),(6,5)]"
      ]
     },
     "metadata": {},
     "output_type": "display_data"
    }
   ],
   "source": [
    "filter positive [1, 2, 3, 4, 5, 6, 0, -1, -2, -3.4]\n",
    "\n",
    "-- A bigger function for tuple elements\n",
    "bigger:: (Num a, Ord a) => (a, a) -> Bool\n",
    "bigger (x,y) = x > y\n",
    "\n",
    "filter bigger [(11, 2), (3,4), (6, 5), (1, 1)]"
   ]
  }
 ],
 "metadata": {
  "kernelspec": {
   "display_name": "Haskell",
   "language": "haskell",
   "name": "haskell"
  },
  "language_info": {
   "codemirror_mode": "ihaskell",
   "file_extension": ".hs",
   "mimetype": "text/x-haskell",
   "name": "haskell",
   "pygments_lexer": "Haskell",
   "version": "9.6.6"
  }
 },
 "nbformat": 4,
 "nbformat_minor": 5
}
