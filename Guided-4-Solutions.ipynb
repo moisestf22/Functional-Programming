{
 "cells": [
  {
   "cell_type": "markdown",
   "id": "2fbe9757",
   "metadata": {},
   "source": [
    "# Guided 4: List comprehensions\n",
    "List comprehension is a powerful and common way to create lists. \n",
    "\n",
    "Simplest case: `[expresion | list generator]` "
   ]
  },
  {
   "cell_type": "code",
   "execution_count": 4,
   "id": "6f134dda",
   "metadata": {},
   "outputs": [
    {
     "data": {
      "text/plain": [
       "[1,8,27,64,125,216,343,512,729,1000,1331,1728,2197,2744,3375,4096,4913,5832,6859,8000]"
      ]
     },
     "metadata": {},
     "output_type": "display_data"
    },
    {
     "data": {
      "text/plain": [
       "[1,8,27,64,125,216,343,512,729,1000,1331,1728,2197,2744,3375,4096,4913,5832,6859,8000,9261,10648,12167,13824,15625]"
      ]
     },
     "metadata": {},
     "output_type": "display_data"
    }
   ],
   "source": [
    "-- List with the cubes of the first 20 numbers\n",
    "list1 = [ x^3 | x <- [1..20]]\n",
    "list1\n",
    "-- Infinite list with cubes. Don't print it! \n",
    "list2 = [ x^3 | x <- [1..]]\n",
    "take 25 list2"
   ]
  },
  {
   "cell_type": "markdown",
   "id": "5c3b8a9e",
   "metadata": {},
   "source": [
    "**Exercise 1.** Use list comprehension to create the function `replicate' n x` that creates a list with `n` copies of `x`."
   ]
  },
  {
   "cell_type": "code",
   "execution_count": 8,
   "id": "7daac700",
   "metadata": {},
   "outputs": [],
   "source": [
    "replicate' :: Int -> a -> [a]\n",
    "replicate' n x = [x | y <- [1..n]]\n",
    "-- As we are not using y we can name it _\n",
    "replicate'' :: Int -> a -> [a]\n",
    "replicate'' n x = [x | _ <- [1..n]]"
   ]
  },
  {
   "cell_type": "code",
   "execution_count": 2,
   "id": "1c25835d-7c52-49a2-9195-e4b47689359c",
   "metadata": {},
   "outputs": [
    {
     "data": {
      "text/plain": [
       "[\"hi\",\"hi\",\"hi\",\"hi\",\"hi\",\"hi\",\"hi\",\"hi\",\"hi\",\"hi\",\"hi\",\"hi\",\"hi\",\"hi\",\"hi\",\"hi\",\"hi\",\"hi\",\"hi\",\"hi\"]"
      ]
     },
     "metadata": {},
     "output_type": "display_data"
    },
    {
     "data": {
      "text/plain": [
       "[2,2,2,2,2,2,2,2,2,2]"
      ]
     },
     "metadata": {},
     "output_type": "display_data"
    },
    {
     "data": {
      "text/plain": [
       "[[1,2],[1,2],[1,2],[1,2],[1,2]]"
      ]
     },
     "metadata": {},
     "output_type": "display_data"
    }
   ],
   "source": [
    "replicate' 20 \"hi\"\n",
    "replicate' 10 2\n",
    "replicate' 5 [1,2] "
   ]
  },
  {
   "cell_type": "markdown",
   "id": "5ea873a1",
   "metadata": {},
   "source": [
    "The most general (and useful) case is `[expresion | list generator1, list generator2.., guard1, guard2, ...]`"
   ]
  },
  {
   "cell_type": "code",
   "execution_count": 5,
   "id": "d3b422f7",
   "metadata": {},
   "outputs": [
    {
     "data": {
      "text/plain": [
       "[(4,16,64),(8,64,512),(12,144,1728),(16,256,4096),(20,400,8000),(24,576,13824),(28,784,21952),(32,1024,32768),(36,1296,46656),(40,1600,64000)]"
      ]
     },
     "metadata": {},
     "output_type": "display_data"
    }
   ],
   "source": [
    "-- List of tuples with the 10 first multiples of 4, their squares and cubes\n",
    "list3  = take 10 [(x, x^2, x^3) | x <- [4..], x `rem` 4 == 0]\n",
    "list3"
   ]
  },
  {
   "cell_type": "markdown",
   "id": "4a04dc16",
   "metadata": {},
   "source": [
    "**Exercise 2.** Create a function `takeSquaresCubes n x` that creates a list of tuples with the `n` first multiples of a number `x`, their squares and cubes"
   ]
  },
  {
   "cell_type": "code",
   "execution_count": 25,
   "id": "d3ed1e4f",
   "metadata": {},
   "outputs": [],
   "source": [
    "-- Function that takes the n first multiples of a number x, their squares and cubes\n",
    "-- The type of n must be Int because take::Int->[a]->[a]\n",
    "takeSquaresCubes:: Integral c => Int -> c -> [(c,c,c)]\n",
    "takeSquaresCubes n x = take n [(x', x'^2, x'^3) | x' <- [x..], x' `rem` x == 0]"
   ]
  },
  {
   "cell_type": "code",
   "execution_count": 26,
   "id": "d1b26034-a5f2-457a-b48c-f0663225609d",
   "metadata": {},
   "outputs": [
    {
     "data": {
      "text/plain": [
       "[(4,16,64),(8,64,512),(12,144,1728),(16,256,4096),(20,400,8000),(24,576,13824),(28,784,21952),(32,1024,32768),(36,1296,46656),(40,1600,64000)]"
      ]
     },
     "metadata": {},
     "output_type": "display_data"
    }
   ],
   "source": [
    "takeSquaresCubes 10 4"
   ]
  },
  {
   "cell_type": "markdown",
   "id": "46a0181c-26e1-41b5-8c85-0b59aed86308",
   "metadata": {},
   "source": [
    "**Exercise 3.** Create a function `additionSquaresCubes n x` where the squares and cubes of the `n` first multiples of `x` are added. Consider reusing the previous function."
   ]
  },
  {
   "cell_type": "code",
   "execution_count": 19,
   "id": "0d921eba-1700-4eb5-bb45-0720c1d5b7a5",
   "metadata": {},
   "outputs": [],
   "source": [
    "additionSquaresCubes :: Integral a => Int -> a -> [a]\n",
    "-- Each tuple is decomposed into its three components, we don't care about the first one\n",
    "additionSquaresCubes n x = [s + c | (_, s, c) <- takeSquaresCubes n x]"
   ]
  },
  {
   "cell_type": "code",
   "execution_count": 20,
   "id": "5aa3982a-0a10-49c7-a9cb-f915744ee1de",
   "metadata": {},
   "outputs": [
    {
     "data": {
      "text/plain": [
       "[80,576,1872,4352,8400,14400,22736,33792,47952,65600]"
      ]
     },
     "metadata": {},
     "output_type": "display_data"
    }
   ],
   "source": [
    "additionSquaresCubes 10 4"
   ]
  },
  {
   "cell_type": "markdown",
   "id": "57ad19bd",
   "metadata": {},
   "source": [
    "**Exercise 4.** Create a function `additionSquareCubes' n x e` where the squares and cubes of the `n` first multiples of `x` are added, only if any of them finishes with `e`."
   ]
  },
  {
   "cell_type": "code",
   "execution_count": 22,
   "id": "e65681d2",
   "metadata": {},
   "outputs": [],
   "source": [
    "-- Function where the squares and cubes of the n first multiples of x are added only if any of them finishes with e\n",
    "additionSquareCubes' :: Integral a => Int -> a -> a -> [a]\n",
    "additionSquareCubes' n x e = [s + c | (_, s, c) <- takeSquaresCubes n x, c `rem` 10 == e || s `rem` 10 == e]"
   ]
  },
  {
   "cell_type": "code",
   "execution_count": 24,
   "id": "c62ea3e2-3c19-47fc-bb6e-854ca80fecdd",
   "metadata": {},
   "outputs": [
    {
     "data": {
      "text/plain": [
       "[80,576,1872,14400,22736,33792]"
      ]
     },
     "metadata": {},
     "output_type": "display_data"
    }
   ],
   "source": [
    "additionSquareCubes' 10 4 4"
   ]
  },
  {
   "cell_type": "markdown",
   "id": "47fd7c34",
   "metadata": {},
   "source": [
    "**Exercise 5.** Create a list of tuples with the multiplication tables of 1 to 10 as in `[(1,1,1), (1,2,2), (1,3,3)...]`"
   ]
  },
  {
   "cell_type": "code",
   "execution_count": 29,
   "id": "d4347ff4",
   "metadata": {},
   "outputs": [],
   "source": [
    "tables :: Integral a => [(a, a, a)]\n",
    "tables = [(x,y,x*y) | x <-[1..10], y <- [1..10]]"
   ]
  },
  {
   "cell_type": "code",
   "execution_count": 30,
   "id": "62c98eb7-0211-4c65-9e8a-d6fcf17ab8e6",
   "metadata": {},
   "outputs": [
    {
     "data": {
      "text/plain": [
       "[(1,1,1),(1,2,2),(1,3,3),(1,4,4),(1,5,5),(1,6,6),(1,7,7),(1,8,8),(1,9,9),(1,10,10),(2,1,2),(2,2,4),(2,3,6),(2,4,8),(2,5,10),(2,6,12),(2,7,14),(2,8,16),(2,9,18),(2,10,20),(3,1,3),(3,2,6),(3,3,9),(3,4,12),(3,5,15),(3,6,18),(3,7,21),(3,8,24),(3,9,27),(3,10,30),(4,1,4),(4,2,8),(4,3,12),(4,4,16),(4,5,20),(4,6,24),(4,7,28),(4,8,32),(4,9,36),(4,10,40),(5,1,5),(5,2,10),(5,3,15),(5,4,20),(5,5,25),(5,6,30),(5,7,35),(5,8,40),(5,9,45),(5,10,50),(6,1,6),(6,2,12),(6,3,18),(6,4,24),(6,5,30),(6,6,36),(6,7,42),(6,8,48),(6,9,54),(6,10,60),(7,1,7),(7,2,14),(7,3,21),(7,4,28),(7,5,35),(7,6,42),(7,7,49),(7,8,56),(7,9,63),(7,10,70),(8,1,8),(8,2,16),(8,3,24),(8,4,32),(8,5,40),(8,6,48),(8,7,56),(8,8,64),(8,9,72),(8,10,80),(9,1,9),(9,2,18),(9,3,27),(9,4,36),(9,5,45),(9,6,54),(9,7,63),(9,8,72),(9,9,81),(9,10,90),(10,1,10),(10,2,20),(10,3,30),(10,4,40),(10,5,50),(10,6,60),(10,7,70),(10,8,80),(10,9,90),(10,10,100)]"
      ]
     },
     "metadata": {},
     "output_type": "display_data"
    }
   ],
   "source": [
    "tables"
   ]
  },
  {
   "cell_type": "markdown",
   "id": "da7265bd",
   "metadata": {},
   "source": [
    "The `zip` function takes a pair of lists and returns a list of pairs of corresponding elements: "
   ]
  },
  {
   "cell_type": "code",
   "execution_count": 31,
   "id": "6c68eeb2",
   "metadata": {},
   "outputs": [
    {
     "data": {
      "text/plain": [
       "[(1,6),(2,7),(3,8)]"
      ]
     },
     "metadata": {},
     "output_type": "display_data"
    },
    {
     "data": {
      "text/plain": [
       "[(1,6),(2,7),(3,8)]"
      ]
     },
     "metadata": {},
     "output_type": "display_data"
    },
    {
     "data": {
      "text/plain": [
       "[(1,6),(2,7),(3,8)]"
      ]
     },
     "metadata": {},
     "output_type": "display_data"
    }
   ],
   "source": [
    "zip [1..3] [6..8]\n",
    "-- If they are of different size no problem, it ignores the extra elements\n",
    "zip [1..3] [6..12]\n",
    "zip [1..33] [6..8]"
   ]
  },
  {
   "cell_type": "markdown",
   "id": "35bc35bd",
   "metadata": {},
   "source": [
    "**Exercise 6.** Create a `consecutive xs` function that given a list of elements tells if they are consecutive either in ascending or descending order. Which is its type? Tip: use the `pairs` function seen in lectures."
   ]
  },
  {
   "cell_type": "code",
   "execution_count": 32,
   "id": "5bc35920",
   "metadata": {},
   "outputs": [],
   "source": [
    "pairs :: [a] -> [(a,a)]\n",
    "pairs xs = zip xs (tail xs)\n",
    "\n",
    "consecutive::(Eq a, Enum a) => [a]->Bool\n",
    "consecutive xs = (and [y == succ x | (x,y) <- pairs xs]) || and [x == succ y | (x,y) <- pairs xs]"
   ]
  },
  {
   "cell_type": "code",
   "execution_count": null,
   "id": "7331bb03-4e67-49f8-b98d-0201c5976343",
   "metadata": {},
   "outputs": [
    {
     "data": {
      "text/plain": [
       "True"
      ]
     },
     "metadata": {},
     "output_type": "display_data"
    },
    {
     "data": {
      "text/plain": [
       "False"
      ]
     },
     "metadata": {},
     "output_type": "display_data"
    },
    {
     "data": {
      "text/plain": [
       "True"
      ]
     },
     "metadata": {},
     "output_type": "display_data"
    },
    {
     "data": {
      "text/plain": [
       "True"
      ]
     },
     "metadata": {},
     "output_type": "display_data"
    },
    {
     "data": {
      "text/plain": [
       "True"
      ]
     },
     "metadata": {},
     "output_type": "display_data"
    }
   ],
   "source": [
    "consecutive [1, 2, 3, 4, 5]\n",
    "consecutive [1, 2, 2]\n",
    "consecutive [1..20]\n",
    "consecutive ['a', 'b', 'c']\n",
    "consecutive \"abcde\""
   ]
  }
 ],
 "metadata": {
  "kernelspec": {
   "display_name": "Haskell",
   "language": "haskell",
   "name": "haskell"
  },
  "language_info": {
   "codemirror_mode": "ihaskell",
   "file_extension": ".hs",
   "mimetype": "text/x-haskell",
   "name": "haskell",
   "pygments_lexer": "Haskell",
   "version": "9.6.6"
  }
 },
 "nbformat": 4,
 "nbformat_minor": 5
}
