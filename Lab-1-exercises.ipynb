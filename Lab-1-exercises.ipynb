{
 "cells": [
  {
   "cell_type": "markdown",
   "id": "1f0cbb6b-53c5-46e4-8071-f2051b93d3e4",
   "metadata": {},
   "source": [
    "# Lab 1 exercises\n",
    "\n",
    "The goal of these exercises is to get familiarized with Haskell and its development environments"
   ]
  },
  {
   "cell_type": "markdown",
   "id": "bda8b063-6998-4a64-8d16-de409887d783",
   "metadata": {},
   "source": [
    "**Exercise 1** Create an `addCents c1 c2 c5 c10 c20 c50` function that receives the number of coins of 1 cent, 2 cents, 5 cents, 10 cents, 20 cents and 50 cents and returns the equivalent in euros."
   ]
  },
  {
   "cell_type": "code",
   "execution_count": null,
   "id": "da2857ff",
   "metadata": {},
   "outputs": [],
   "source": []
  },
  {
   "cell_type": "markdown",
   "id": "b3d00378",
   "metadata": {},
   "source": [
    "**Exercise 2** Create a `maxOf3 a b c` function that returns the maximum of three numbers."
   ]
  },
  {
   "cell_type": "code",
   "execution_count": null,
   "id": "a147514a",
   "metadata": {},
   "outputs": [],
   "source": []
  },
  {
   "cell_type": "markdown",
   "id": "7efbde74",
   "metadata": {},
   "source": [
    "**Exercise 3** Create a `middle a b c` function that given three numbers returns the one in the middle of the three. For example `middle 2 3 1 == 2`"
   ]
  },
  {
   "cell_type": "code",
   "execution_count": null,
   "id": "b1817492",
   "metadata": {},
   "outputs": [],
   "source": []
  },
  {
   "cell_type": "markdown",
   "id": "468aeb80",
   "metadata": {},
   "source": [
    "**Exercise 4** Create an `allEqual a b c d` function that returns true if the values of all its parameters are equal. Check it works with any basic type. Check also the type of the function."
   ]
  },
  {
   "cell_type": "code",
   "execution_count": null,
   "id": "5251632a",
   "metadata": {},
   "outputs": [],
   "source": []
  },
  {
   "cell_type": "markdown",
   "id": "533710de",
   "metadata": {},
   "source": [
    "**Exercise 5** Create an `allDifferent a b c` function that returns true if the values of all its parameters are different."
   ]
  },
  {
   "cell_type": "code",
   "execution_count": null,
   "id": "113a31e8",
   "metadata": {},
   "outputs": [],
   "source": []
  },
  {
   "cell_type": "markdown",
   "id": "9c98e8cc",
   "metadata": {},
   "source": [
    "**Exercise 6** Create an `allDifferent' a b c d` function that returns true if the values of all its parameters are different. Consider reusing the previous one."
   ]
  },
  {
   "cell_type": "code",
   "execution_count": null,
   "id": "6ce6fc0d",
   "metadata": {},
   "outputs": [],
   "source": []
  },
  {
   "cell_type": "markdown",
   "id": "6455bd57",
   "metadata": {},
   "source": [
    "**Exercise 7** Create a `highestNumber a b` function that receives two 1-digit numbers as parameters and returns the highest number that can be created combining both numbers. For example `highestNumber 2 6 == 62`"
   ]
  },
  {
   "cell_type": "code",
   "execution_count": null,
   "id": "dcfe4262",
   "metadata": {},
   "outputs": [],
   "source": []
  },
  {
   "cell_type": "markdown",
   "id": "aeaba104",
   "metadata": {},
   "source": [
    "# Delivery rules\n",
    "Create a file named `your initials-lab-01.ipynb` with all the functions inside and upload it to Aula Global before the deadline. For example, Lucía Perez Gómez will upload a file `lpg-lab-01.ipynb`"
   ]
  }
 ],
 "metadata": {
  "kernelspec": {
   "display_name": "Haskell",
   "language": "haskell",
   "name": "haskell"
  },
  "language_info": {
   "codemirror_mode": "ihaskell",
   "file_extension": ".hs",
   "mimetype": "text/x-haskell",
   "name": "haskell",
   "pygments_lexer": "Haskell",
   "version": "9.4.5"
  }
 },
 "nbformat": 4,
 "nbformat_minor": 5
}
