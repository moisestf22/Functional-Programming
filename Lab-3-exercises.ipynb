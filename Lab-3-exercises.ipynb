{
 "cells": [
  {
   "cell_type": "markdown",
   "id": "c2bd8ebf",
   "metadata": {},
   "source": [
    "# Lab 3 exercises\n",
    "\n",
    "Exercises about lists.\n",
    "\n",
    "**Note:** You must specify the type for all the created functions.\n",
    "\n"
   ]
  },
  {
   "cell_type": "markdown",
   "id": "0a1d9887",
   "metadata": {},
   "source": [
    "**Exercise 1.** Define the `rotate n xs` function that puts the n first elements of a list at its end"
   ]
  },
  {
   "cell_type": "code",
   "execution_count": 16,
   "id": "a4940161",
   "metadata": {},
   "outputs": [],
   "source": []
  },
  {
   "cell_type": "code",
   "execution_count": 17,
   "id": "e90a4906",
   "metadata": {},
   "outputs": [
    {
     "data": {
      "text/plain": [
       "[]"
      ]
     },
     "metadata": {},
     "output_type": "display_data"
    },
    {
     "data": {
      "text/plain": [
       "[2,3,4,5,6,7,1]"
      ]
     },
     "metadata": {},
     "output_type": "display_data"
    },
    {
     "data": {
      "text/plain": [
       "[3,4,5,6,7,1,2]"
      ]
     },
     "metadata": {},
     "output_type": "display_data"
    },
    {
     "data": {
      "text/plain": [
       "[4,5,6,7,1,2,3]"
      ]
     },
     "metadata": {},
     "output_type": "display_data"
    },
    {
     "data": {
      "text/plain": [
       "[1,2,3,4,5,6,7]"
      ]
     },
     "metadata": {},
     "output_type": "display_data"
    },
    {
     "data": {
      "text/plain": [
       "[1,2,3,4,5,6,7]"
      ]
     },
     "metadata": {},
     "output_type": "display_data"
    }
   ],
   "source": [
    "-- Test code\n",
    "rotate 1 []\n",
    "rotate 1 [1, 2, 3, 4, 5, 6, 7] \n",
    "rotate 2 [1, 2, 3, 4, 5, 6, 7] \n",
    "rotate 3 [1, 2, 3, 4, 5, 6, 7] \n",
    "rotate 7 [1, 2, 3, 4, 5, 6, 7] \n",
    "-- If n > len nothing is done\n",
    "rotate 8 [1, 2, 3, 4, 5, 6, 7]"
   ]
  },
  {
   "cell_type": "markdown",
   "id": "c978ecd6",
   "metadata": {},
   "source": [
    "**Exercise 2.**  Define the `sublist a b xs` function that returns the elements of xs between positions a and b (b not included)"
   ]
  },
  {
   "cell_type": "code",
   "execution_count": 23,
   "id": "44e35ad7",
   "metadata": {},
   "outputs": [],
   "source": []
  },
  {
   "cell_type": "code",
   "execution_count": 25,
   "id": "19f9da7e",
   "metadata": {},
   "outputs": [
    {
     "data": {
      "text/plain": [
       "[]"
      ]
     },
     "metadata": {},
     "output_type": "display_data"
    },
    {
     "data": {
      "text/plain": [
       "[]"
      ]
     },
     "metadata": {},
     "output_type": "display_data"
    },
    {
     "data": {
      "text/plain": [
       "[1]"
      ]
     },
     "metadata": {},
     "output_type": "display_data"
    },
    {
     "data": {
      "text/plain": [
       "[1,2,3,4,5,6]"
      ]
     },
     "metadata": {},
     "output_type": "display_data"
    },
    {
     "data": {
      "text/plain": [
       "[3,4,5]"
      ]
     },
     "metadata": {},
     "output_type": "display_data"
    },
    {
     "data": {
      "text/plain": [
       "[]"
      ]
     },
     "metadata": {},
     "output_type": "display_data"
    },
    {
     "data": {
      "text/plain": [
       "[]"
      ]
     },
     "metadata": {},
     "output_type": "display_data"
    }
   ],
   "source": [
    "-- Test code\n",
    "sublist 1 2 []\n",
    "sublist 1 2 [1]\n",
    "sublist 0 1 [1, 2, 3, 4, 5, 6, 7] \n",
    "sublist 0 6 [1, 2, 3, 4, 5, 6, 7] \n",
    "sublist 2 5 [1, 2, 3, 4, 5, 6, 7] \n",
    "sublist 0 0 [1, 2, 3, 4, 5, 6, 7] \n",
    "sublist 4 2 [1, 2, 3, 4, 5, 6, 7] "
   ]
  },
  {
   "cell_type": "markdown",
   "id": "60cc9291",
   "metadata": {},
   "source": [
    "**Exercise 3.** Given two lists of 2 elements `[a,b]` and `[c,d]` that represent the boundaries of two intervals define the `intersection [a,b] [c,d]` function that returns the intersection of both intervals. Notice that if more or less than two elements are given it must return the empty list."
   ]
  },
  {
   "cell_type": "code",
   "execution_count": 37,
   "id": "e555523b",
   "metadata": {},
   "outputs": [],
   "source": []
  },
  {
   "cell_type": "code",
   "execution_count": 41,
   "id": "950c94c4",
   "metadata": {},
   "outputs": [
    {
     "data": {
      "text/plain": [
       "[]"
      ]
     },
     "metadata": {},
     "output_type": "display_data"
    },
    {
     "data": {
      "text/plain": [
       "[]"
      ]
     },
     "metadata": {},
     "output_type": "display_data"
    },
    {
     "data": {
      "text/plain": [
       "[]"
      ]
     },
     "metadata": {},
     "output_type": "display_data"
    },
    {
     "data": {
      "text/plain": [
       "[]"
      ]
     },
     "metadata": {},
     "output_type": "display_data"
    },
    {
     "data": {
      "text/plain": [
       "[6,6]"
      ]
     },
     "metadata": {},
     "output_type": "display_data"
    },
    {
     "data": {
      "text/plain": [
       "[2,6]"
      ]
     },
     "metadata": {},
     "output_type": "display_data"
    },
    {
     "data": {
      "text/plain": [
       "[2,4]"
      ]
     },
     "metadata": {},
     "output_type": "display_data"
    },
    {
     "data": {
      "text/plain": [
       "[4,4]"
      ]
     },
     "metadata": {},
     "output_type": "display_data"
    },
    {
     "data": {
      "text/plain": [
       "[]"
      ]
     },
     "metadata": {},
     "output_type": "display_data"
    },
    {
     "data": {
      "text/plain": [
       "[]"
      ]
     },
     "metadata": {},
     "output_type": "display_data"
    },
    {
     "data": {
      "text/plain": [
       "[]"
      ]
     },
     "metadata": {},
     "output_type": "display_data"
    },
    {
     "data": {
      "text/plain": [
       "[]"
      ]
     },
     "metadata": {},
     "output_type": "display_data"
    },
    {
     "data": {
      "text/plain": [
       "[]"
      ]
     },
     "metadata": {},
     "output_type": "display_data"
    }
   ],
   "source": [
    "-- Test code\n",
    "intersection [] []\n",
    "intersection [] [3,5] \n",
    "intersection [3,5] []\n",
    "intersection [2,4] [6,9] \n",
    "intersection [2,6] [6,9] \n",
    "intersection [2,6] [0,9]\n",
    "intersection [2,6] [0,4] \n",
    "intersection [4,6] [4,4] \n",
    "intersection [5,6] [0,4]\n",
    "intersection [1] [0,4]\n",
    "intersection [0,4] [1]\n",
    "intersection [1] [0,4]\n",
    "intersection [0,4] [1, 2, 3]"
   ]
  },
  {
   "cell_type": "markdown",
   "id": "bb443f5d",
   "metadata": {},
   "source": [
    "**Exercise 4.** Define the `addRemoveFirst` function that given a list of numbers adds the first number to all the remaining ones and removes it from the list."
   ]
  },
  {
   "cell_type": "code",
   "execution_count": 1,
   "id": "8ce3f2e8",
   "metadata": {},
   "outputs": [],
   "source": []
  },
  {
   "cell_type": "code",
   "execution_count": 2,
   "id": "41c9efe9",
   "metadata": {},
   "outputs": [
    {
     "data": {
      "text/plain": [
       "[]"
      ]
     },
     "metadata": {},
     "output_type": "display_data"
    },
    {
     "data": {
      "text/plain": [
       "[]"
      ]
     },
     "metadata": {},
     "output_type": "display_data"
    },
    {
     "data": {
      "text/plain": [
       "[3,4,5,6,7]"
      ]
     },
     "metadata": {},
     "output_type": "display_data"
    }
   ],
   "source": [
    "-- Test\n",
    "addRemoveFirst []\n",
    "addRemoveFirst [1]\n",
    "addRemoveFirst [1, 2, 3, 4, 5, 6]"
   ]
  },
  {
   "cell_type": "markdown",
   "id": "28c96c03-2f31-43b5-bf53-7aa51f6e6f45",
   "metadata": {},
   "source": [
    "**Exercise 5.** Define two functions, `biggerThan` and `listBiggerThan`. The first one receives a number and a list of numbers and returns a list\n",
    "of boolean indicating if each element is bigger than the number. The second function returns a list with just the elements that are bigger than the function."
   ]
  },
  {
   "cell_type": "code",
   "execution_count": 10,
   "id": "6d76bfa4-a9d1-4dc9-ac41-15f5e4640c1f",
   "metadata": {},
   "outputs": [],
   "source": []
  },
  {
   "cell_type": "code",
   "execution_count": 42,
   "id": "58041cb4-cdd6-4816-bffd-8923e29f0e37",
   "metadata": {},
   "outputs": [
    {
     "data": {
      "text/plain": [
       "[]"
      ]
     },
     "metadata": {},
     "output_type": "display_data"
    },
    {
     "data": {
      "text/plain": [
       "[False,False,True,True,True,True,False,False,False,False]"
      ]
     },
     "metadata": {},
     "output_type": "display_data"
    },
    {
     "data": {
      "text/plain": [
       "[]"
      ]
     },
     "metadata": {},
     "output_type": "display_data"
    },
    {
     "data": {
      "text/plain": [
       "[3.0,4.0,5.0,6.0]"
      ]
     },
     "metadata": {},
     "output_type": "display_data"
    }
   ],
   "source": [
    "-- Test code\n",
    "biggerThan 2 []\n",
    "biggerThan 2 [1, 2, 3, 4, 5, 6, 0, -1, -2, -3.4]\n",
    "listBiggerThan 2 []\n",
    "listBiggerThan 2 [1, 2, 3, 4, 5, 6, 0, -1, -2, -3.4]"
   ]
  },
  {
   "cell_type": "markdown",
   "id": "1ac2c82a",
   "metadata": {},
   "source": [
    "**Exercise 6.** Define the `takeN n xs` function that behaves like the `take` function but if `n` $\\geq$ `len xs` the last element of the list is repeated until the returned list has `n` elements. For the empty list it must return the empty list. Get sure it works for infinite lists."
   ]
  },
  {
   "cell_type": "code",
   "execution_count": 43,
   "id": "0a581817",
   "metadata": {},
   "outputs": [],
   "source": []
  },
  {
   "cell_type": "code",
   "execution_count": 44,
   "id": "d81a0787",
   "metadata": {},
   "outputs": [
    {
     "data": {
      "text/plain": [
       "[1,2]"
      ]
     },
     "metadata": {},
     "output_type": "display_data"
    },
    {
     "data": {
      "text/plain": [
       "[1,2,3]"
      ]
     },
     "metadata": {},
     "output_type": "display_data"
    },
    {
     "data": {
      "text/plain": [
       "[1,2,2,2]"
      ]
     },
     "metadata": {},
     "output_type": "display_data"
    },
    {
     "data": {
      "text/plain": [
       "[1,1,1,1,1]"
      ]
     },
     "metadata": {},
     "output_type": "display_data"
    },
    {
     "data": {
      "text/plain": [
       "\"helloooo\""
      ]
     },
     "metadata": {},
     "output_type": "display_data"
    },
    {
     "data": {
      "text/plain": [
       "[]"
      ]
     },
     "metadata": {},
     "output_type": "display_data"
    },
    {
     "data": {
      "text/plain": [
       "[\"h\",\"h\",\"h\",\"h\",\"h\",\"h\",\"h\",\"h\",\"h\",\"h\",\"h\",\"h\",\"h\",\"h\",\"h\",\"h\",\"h\",\"h\",\"h\",\"h\",\"h\",\"h\"]"
      ]
     },
     "metadata": {},
     "output_type": "display_data"
    }
   ],
   "source": [
    "-- Test code\n",
    "takeN 2 [1, 2, 3]\n",
    "takeN 3 [1, 2, 3]\n",
    "takeN 4 [1, 2]\n",
    "takeN 5 [1]\n",
    "takeN 8 \"hello\"\n",
    "takeN 4 []\n",
    "takeN 22 (repeat \"h\")"
   ]
  },
  {
   "cell_type": "markdown",
   "id": "ab483d70",
   "metadata": {},
   "source": [
    "**Exercise 7.** Create a function `maxMinLetter st` that given a lower case string returns a tuple with the `(highest character, smallest character)` considering the Spanish alphabet (both `a` and `á`, etc. must be considered as equal and `ñ` appears in between `n` and `o`. Assume the string will contain at least one lower case letter and it will contain just lower case letters. Tip: you can use the `ord` and `chr` functions of `Data.Char`"
   ]
  },
  {
   "cell_type": "code",
   "execution_count": 45,
   "id": "07f0a0cc",
   "metadata": {},
   "outputs": [],
   "source": []
  },
  {
   "cell_type": "code",
   "execution_count": null,
   "id": "6b08a0c9",
   "metadata": {},
   "outputs": [
    {
     "data": {
      "text/plain": [
       "('o','e')"
      ]
     },
     "metadata": {},
     "output_type": "display_data"
    },
    {
     "data": {
      "text/plain": [
       "('u','a')"
      ]
     },
     "metadata": {},
     "output_type": "display_data"
    },
    {
     "data": {
      "text/plain": [
       "('\\241','a')"
      ]
     },
     "metadata": {},
     "output_type": "display_data"
    }
   ],
   "source": [
    "-- Test code\n",
    "maxMinLetter \"hello\"\n",
    "maxMinLetter \"ñandú\"\n",
    "maxMinLetter \"niña\""
   ]
  }
 ],
 "metadata": {
  "kernelspec": {
   "display_name": "Haskell",
   "language": "haskell",
   "name": "haskell"
  },
  "language_info": {
   "codemirror_mode": "ihaskell",
   "file_extension": ".hs",
   "mimetype": "text/x-haskell",
   "name": "haskell",
   "pygments_lexer": "Haskell",
   "version": "9.6.6"
  }
 },
 "nbformat": 4,
 "nbformat_minor": 5
}
