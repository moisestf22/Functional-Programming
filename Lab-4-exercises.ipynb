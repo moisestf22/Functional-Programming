{
 "cells": [
  {
   "cell_type": "markdown",
   "id": "2fbe9757",
   "metadata": {},
   "source": [
    "# Lab 4 exercises solutions\n",
    "\n",
    "Exercises about lists.\n",
    "\n",
    "**Note:** You must specify the type for all the created functions."
   ]
  },
  {
   "cell_type": "markdown",
   "id": "b3dc89ec",
   "metadata": {},
   "source": [
    "**Exercise 1.** Use list comprehension to create the function `evenPositions xs` that returns the position of all the even elements in a list."
   ]
  },
  {
   "cell_type": "code",
   "execution_count": null,
   "id": "13e0169b",
   "metadata": {},
   "outputs": [],
   "source": [
    "-- With zip\n",
    "evenPositions :: [Int] -> [Int]\n",
    "evenPositions xs = [pos | (x, pos) <- zip xs [0..], even x]\n",
    "\n",
    "-- Using !!\n",
    "evenPositions' :: [Int] -> [Int]\n",
    "evenPositions' xs = [pos | pos <- [0..length xs - 1], even (xs !! pos)]\n",
    "\n"
   ]
  },
  {
   "cell_type": "code",
   "execution_count": null,
   "id": "978673ac",
   "metadata": {},
   "outputs": [
    {
     "data": {
      "text/plain": [
       "[]"
      ]
     },
     "metadata": {},
     "output_type": "display_data"
    },
    {
     "data": {
      "text/plain": [
       "[]"
      ]
     },
     "metadata": {},
     "output_type": "display_data"
    },
    {
     "data": {
      "text/plain": [
       "[3]"
      ]
     },
     "metadata": {},
     "output_type": "display_data"
    },
    {
     "data": {
      "text/plain": [
       "[0,1,2,3]"
      ]
     },
     "metadata": {},
     "output_type": "display_data"
    }
   ],
   "source": [
    "-- Test\n",
    "evenPositions []\n",
    "evenPositions [1, 1, 1, 1]\n",
    "evenPositions [1, 1, 1, 2]\n",
    "evenPositions [2, 2, 2, 2]"
   ]
  },
  {
   "cell_type": "markdown",
   "id": "312b4bf8",
   "metadata": {},
   "source": [
    "**Exercise 2.** Create a `posFirstEven` function that returns the position of the first even element of a list or -1 if there are no even elements in the list."
   ]
  },
  {
   "cell_type": "code",
   "execution_count": null,
   "id": "448a5911",
   "metadata": {},
   "outputs": [],
   "source": [
    "posFirstEven::[Int] -> Int\n",
    "posFirstEven xs\n",
    "  | null result = -1\n",
    "  | otherwise = head result\n",
    "  where result = evenPositions xs"
   ]
  },
  {
   "cell_type": "code",
   "execution_count": null,
   "id": "3965336b",
   "metadata": {},
   "outputs": [
    {
     "data": {
      "text/plain": [
       "-1"
      ]
     },
     "metadata": {},
     "output_type": "display_data"
    },
    {
     "data": {
      "text/plain": [
       "-1"
      ]
     },
     "metadata": {},
     "output_type": "display_data"
    },
    {
     "data": {
      "text/plain": [
       "3"
      ]
     },
     "metadata": {},
     "output_type": "display_data"
    },
    {
     "data": {
      "text/plain": [
       "0"
      ]
     },
     "metadata": {},
     "output_type": "display_data"
    }
   ],
   "source": [
    "-- Test\n",
    "posFirstEven []\n",
    "posFirstEven [1, 1, 1, 1]\n",
    "posFirstEven [1, 1, 1, 2]\n",
    "posFirstEven [2, 2, 2, 2]"
   ]
  },
  {
   "cell_type": "markdown",
   "id": "d06431ee",
   "metadata": {},
   "source": [
    "**Exercise 3.** Use the previous function to create a `splitEven` function that splits a list at its first even element (it will be part of the second list)"
   ]
  },
  {
   "cell_type": "code",
   "execution_count": null,
   "id": "4713f040",
   "metadata": {},
   "outputs": [],
   "source": [
    "splitEven::[Int] -> ([Int],[Int])\n",
    "splitEven xs \n",
    "    | pos == -1 = (xs, [])\n",
    "    | otherwise = splitAt pos xs\n",
    "    where pos = posFirstEven xs"
   ]
  },
  {
   "cell_type": "code",
   "execution_count": null,
   "id": "4fd944a4",
   "metadata": {},
   "outputs": [
    {
     "data": {
      "text/plain": [
       "([],[])"
      ]
     },
     "metadata": {},
     "output_type": "display_data"
    },
    {
     "data": {
      "text/plain": [
       "([1,1,1,1],[])"
      ]
     },
     "metadata": {},
     "output_type": "display_data"
    },
    {
     "data": {
      "text/plain": [
       "([1,1,1],[2])"
      ]
     },
     "metadata": {},
     "output_type": "display_data"
    },
    {
     "data": {
      "text/plain": [
       "([],[2,2,2,2])"
      ]
     },
     "metadata": {},
     "output_type": "display_data"
    }
   ],
   "source": [
    "-- Test\n",
    "splitEven []\n",
    "splitEven [1, 1, 1, 1]\n",
    "splitEven [1, 1, 1, 2]\n",
    "splitEven [2, 2, 2, 2]"
   ]
  },
  {
   "cell_type": "markdown",
   "id": "290aabfe",
   "metadata": {},
   "source": [
    "**Exercise 4.** Create a function `count x xs` that counts the number of times an element `x` appears in list `xs`."
   ]
  },
  {
   "cell_type": "code",
   "execution_count": null,
   "id": "f4cbdba8",
   "metadata": {},
   "outputs": [],
   "source": [
    "-- This function will work for any list of type Eq \n",
    "-- (any list of elements supporting ==)\n",
    "count :: Eq a => a -> [a] -> Int\n",
    "count x xs = length [y | y <- xs, y == x]"
   ]
  },
  {
   "cell_type": "code",
   "execution_count": null,
   "id": "e47d4f17",
   "metadata": {},
   "outputs": [
    {
     "data": {
      "text/plain": [
       "0"
      ]
     },
     "metadata": {},
     "output_type": "display_data"
    },
    {
     "data": {
      "text/plain": [
       "2"
      ]
     },
     "metadata": {},
     "output_type": "display_data"
    },
    {
     "data": {
      "text/plain": [
       "0"
      ]
     },
     "metadata": {},
     "output_type": "display_data"
    }
   ],
   "source": [
    "-- Test\n",
    "count 3 []\n",
    "count 3 [1, 2, 3, 4, 3]\n",
    "count 3 [1, 2, 4]"
   ]
  },
  {
   "cell_type": "markdown",
   "id": "f2249c24",
   "metadata": {},
   "source": [
    "**Exercise 5.** A number is perfect if it is equal to the addition of all its divisors, except itself. Create the perfectTo x function that returns a list with all the perfect numbers until the given one (included). Note: auxiliary functions can be created.\n",
    "\n",
    "\n"
   ]
  },
  {
   "cell_type": "code",
   "execution_count": null,
   "id": "36cc0936",
   "metadata": {},
   "outputs": [],
   "source": [
    "-- Efficient way\n",
    "perfectTo :: Int -> [Int]\n",
    "perfectTo n = [x | x <- [1..n], sum (divisors x) == x]\n",
    "\n",
    "-- We stop at n/2\n",
    "divisors :: Int -> [Int]\n",
    "divisors 1 = [1]\n",
    "divisors n = [x | x <- [1..n `div` 2], n `rem` x == 0]\n",
    "\n",
    "-- Alternative divisors, less efficietn\n",
    "divisors' :: Int -> [Int]\n",
    "divisors' n = [x | x <- [1..n-1], n `rem` x == 0]"
   ]
  },
  {
   "cell_type": "code",
   "execution_count": null,
   "id": "e18c487b",
   "metadata": {},
   "outputs": [
    {
     "data": {
      "text/plain": [
       "[1,6]"
      ]
     },
     "metadata": {},
     "output_type": "display_data"
    },
    {
     "data": {
      "text/plain": [
       "[1,6,28,496]"
      ]
     },
     "metadata": {},
     "output_type": "display_data"
    },
    {
     "data": {
      "text/plain": [
       "[1,6,28,496,8128]"
      ]
     },
     "metadata": {},
     "output_type": "display_data"
    }
   ],
   "source": [
    "-- Test\n",
    "perfectTo 10\n",
    "perfectTo 1000\n",
    "perfectTo 10000"
   ]
  },
  {
   "cell_type": "markdown",
   "id": "2f631e5a",
   "metadata": {},
   "source": [
    "**Exercise 6.** Create the `multiples3_5 n` function that returns the addition of all the multiples of 3 or 5 to the number n included."
   ]
  },
  {
   "cell_type": "code",
   "execution_count": null,
   "id": "eb107436",
   "metadata": {},
   "outputs": [],
   "source": [
    "multiples3_5 :: Int -> Int\n",
    "multiples3_5 n = sum [x | x <- [1..n], multiple x 3 || multiple x 5]\n",
    "                 where multiple x y = rem x y == 0"
   ]
  },
  {
   "cell_type": "code",
   "execution_count": null,
   "id": "d079aadb",
   "metadata": {},
   "outputs": [
    {
     "data": {
      "text/plain": [
       "0"
      ]
     },
     "metadata": {},
     "output_type": "display_data"
    },
    {
     "data": {
      "text/plain": [
       "3"
      ]
     },
     "metadata": {},
     "output_type": "display_data"
    },
    {
     "data": {
      "text/plain": [
       "8"
      ]
     },
     "metadata": {},
     "output_type": "display_data"
    },
    {
     "data": {
      "text/plain": [
       "60"
      ]
     },
     "metadata": {},
     "output_type": "display_data"
    }
   ],
   "source": [
    "-- Test\n",
    "multiples3_5 2\n",
    "multiples3_5 3\n",
    "multiples3_5 5\n",
    "multiples3_5 15"
   ]
  },
  {
   "cell_type": "markdown",
   "id": "5aeedfaf",
   "metadata": {},
   "source": [
    "# Delivery rules\n",
    "\n",
    "Save this notebook with name `your initials-lab-04.ipynb` and upload it to Aula Global before the deadline. For example, Lucía Perez Gómez will upload a file `lpg-lab-04.ipynb`"
   ]
  }
 ],
 "metadata": {
  "kernelspec": {
   "display_name": "Haskell",
   "language": "haskell",
   "name": "haskell"
  },
  "language_info": {
   "codemirror_mode": "ihaskell",
   "file_extension": ".hs",
   "mimetype": "text/x-haskell",
   "name": "haskell",
   "pygments_lexer": "Haskell",
   "version": "9.6.6"
  }
 },
 "nbformat": 4,
 "nbformat_minor": 5
}
