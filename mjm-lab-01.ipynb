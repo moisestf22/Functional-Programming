{
 "cells": [
  {
   "cell_type": "markdown",
   "id": "5b811010",
   "metadata": {},
   "source": [
    "# Lab 1 exercises\n",
    "\n",
    "The goal of these exercises is to get familiarized with Haskell and its development environments"
   ]
  },
  {
   "cell_type": "markdown",
   "id": "6f8f8886",
   "metadata": {},
   "source": [
    "**Exercise 1** Create an `addCents c1 c2 c5 c10 c20 c50` function that receives the number of coins of 1 cent, 2 cents, 5 cents, 10 cents, 20 cents and 50 cents and returns the equivalent in euros."
   ]
  },
  {
   "cell_type": "code",
   "execution_count": null,
   "id": "c5390240",
   "metadata": {},
   "outputs": [],
   "source": [
    "\n",
    "        addCents :: Int -> Int -> Int -> Int -> Int -> Int -> Float\n",
    "        addCents c1 c2 c5 c10 c20 c50 = fromIntegral (c1 + 2 * c2 + 5 * c5 + 10 * c10 + 20 * c20 + 50 * c50) / 100\n",
    "        "
   ]
  },
  {
   "cell_type": "markdown",
   "id": "9a127feb",
   "metadata": {},
   "source": [
    "**Exercise 2** Create a `maxOf3 a b c` function that returns the maximum of three numbers."
   ]
  },
  {
   "cell_type": "code",
   "execution_count": null,
   "id": "56b82ffa",
   "metadata": {},
   "outputs": [],
   "source": [
    "\n",
    "        maxOf3 :: (Ord a) => a -> a -> a -> a\n",
    "        maxOf3 a b c = max a (max b c)\n",
    "        "
   ]
  },
  {
   "cell_type": "markdown",
   "id": "685656e4",
   "metadata": {},
   "source": [
    "**Exercise 3** Create a `middle a b c` function that given three numbers returns the one in the middle of the three. For example `middle 2 3 1 == 2`"
   ]
  },
  {
   "cell_type": "code",
   "execution_count": null,
   "id": "c6d9c56e",
   "metadata": {},
   "outputs": [],
   "source": [
    "\n",
    "        middle :: (Ord a) => a -> a -> a -> a\n",
    "        middle a b c = a + b + c - maxOf3 a b c - min a (min b c)\n",
    "        "
   ]
  },
  {
   "cell_type": "markdown",
   "id": "4c59b9cd",
   "metadata": {},
   "source": [
    "**Exercise 4** Create an `allEqual a b c d` function that returns true if the values of all its parameters are equal. Check it works with any basic type. Check also the type of the function."
   ]
  },
  {
   "cell_type": "code",
   "execution_count": null,
   "id": "59fa934f",
   "metadata": {},
   "outputs": [],
   "source": [
    "\n",
    "        allEqual :: (Eq a) => a -> a -> a -> a -> Bool\n",
    "        allEqual a b c d = a == b && b == c && c == d\n",
    "        "
   ]
  },
  {
   "cell_type": "markdown",
   "id": "c5c8e697",
   "metadata": {},
   "source": [
    "**Exercise 5** Create an `allDifferent a b c` function that returns true if the values of all its parameters are different."
   ]
  },
  {
   "cell_type": "code",
   "execution_count": null,
   "id": "95eb0237",
   "metadata": {},
   "outputs": [],
   "source": [
    "\n",
    "        allDifferent :: (Eq a) => a -> a -> a -> Bool\n",
    "        allDifferent a b c = a /= b && b /= c && a /= c\n",
    "        "
   ]
  },
  {
   "cell_type": "markdown",
   "id": "68c66517",
   "metadata": {},
   "source": [
    "**Exercise 6** Create an `allDifferent' a b c d` function that returns true if the values of all its parameters are different. Consider reusing the previous one."
   ]
  },
  {
   "cell_type": "code",
   "execution_count": null,
   "id": "23eed25c",
   "metadata": {},
   "outputs": [],
   "source": [
    "\n",
    "        allDifferent' :: (Eq a) => a -> a -> a -> a -> Bool\n",
    "        allDifferent' a b c d = allDifferent a b c && allDifferent a b d && allDifferent a c d && allDifferent b c d\n",
    "        "
   ]
  },
  {
   "cell_type": "markdown",
   "id": "c178ddaf",
   "metadata": {},
   "source": [
    "**Exercise 7** Create a `highestNumber a b` function that receives two 1-digit numbers as parameters and returns the highest number that can be created combining both numbers. For example `highestNumber 2 6 == 62`"
   ]
  },
  {
   "cell_type": "code",
   "execution_count": null,
   "id": "e7457110",
   "metadata": {},
   "outputs": [],
   "source": [
    "\n",
    "        highestNumber :: Int -> Int -> Int\n",
    "        highestNumber a b = max (10 * a + b) (10 * b + a)\n",
    "        "
   ]
  },
  {
   "cell_type": "markdown",
   "id": "f8503b42",
   "metadata": {},
   "source": [
    "# Delivery rules\n",
    "Create a file named `your initials-lab-01.ipynb` with all the functions inside and upload it to Aula Global before the deadline. For example, Lucía Perez Gómez will upload a file `lpg-lab-01.ipynb`"
   ]
  }
 ],
 "metadata": {},
 "nbformat": 4,
 "nbformat_minor": 5
}
