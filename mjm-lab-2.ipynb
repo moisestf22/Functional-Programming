{
 "cells": [
  {
   "cell_type": "markdown",
   "id": "b8f4ddee",
   "metadata": {},
   "source": [
    "# Lab 2 Solutions"
   ]
  },
  {
   "cell_type": "markdown",
   "id": "0173807c",
   "metadata": {},
   "source": [
    "**Exercise 1**: Define a `square` function using sections"
   ]
  },
  {
   "cell_type": "code",
   "execution_count": null,
   "id": "3eccdd4b",
   "metadata": {},
   "outputs": [],
   "source": [
    "square :: Int -> Int\n",
    "square = (^2)\n",
    "\n",
    "-- Test\n",
    "square 4\n",
    "square 10"
   ]
  },
  {
   "cell_type": "markdown",
   "id": "7e6bce49",
   "metadata": {},
   "source": [
    "**Exercise 2**: Write a function `older name1 age1 name2 age2` that prints who is older."
   ]
  },
  {
   "cell_type": "code",
   "execution_count": null,
   "id": "361e0b30",
   "metadata": {},
   "outputs": [],
   "source": [
    "older :: String -> Int -> String -> Int -> String\n",
    "older name1 age1 name2 age2 \n",
    "    | age1 > age2 = name1 ++ \" is older than \" ++ name2\n",
    "    | age1 < age2 = name2 ++ \" is older than \" ++ name1\n",
    "    | otherwise = name1 ++ \" and \" ++ name2 ++ \" are the same age\"\n",
    "\n",
    "-- Test\n",
    "older \"Pepe\" 22 \"Luisa\" 18\n",
    "older \"Pepe\" 12 \"Luisa\" 18\n",
    "older \"Pepe\" 18 \"Luisa\" 18\n"
   ]
  },
  {
   "cell_type": "markdown",
   "id": "77ebecf7",
   "metadata": {},
   "source": [
    "**Exercise 3**: Write a `ticketPrice age` function with guards and patterns."
   ]
  },
  {
   "cell_type": "code",
   "execution_count": null,
   "id": "c8506fb6",
   "metadata": {},
   "outputs": [],
   "source": [
    "-- With guards\n",
    "ticketPrice :: Int -> Float\n",
    "ticketPrice age \n",
    "    | age < 5 = 9 * 0.4\n",
    "    | age > 60 = 9 * 0.45\n",
    "    | age < 26 = 9 * 0.8\n",
    "    | otherwise = 9\n",
    "\n",
    "-- Test\n",
    "ticketPrice 3\n",
    "ticketPrice 22\n",
    "ticketPrice 61\n",
    "ticketPrice 29\n",
    "\n",
    "-- With patterns\n",
    "ticketPrice' :: Int -> Float\n",
    "ticketPrice' age\n",
    "    | age < 5 = 9 * 0.4\n",
    "    | age > 60 = 9 * 0.45\n",
    "    | age < 26 = 9 * 0.8\n",
    "    | otherwise = 9\n",
    "\n",
    "-- Test\n",
    "ticketPrice' 3\n",
    "ticketPrice' 22\n",
    "ticketPrice' 61\n",
    "ticketPrice' 29\n"
   ]
  },
  {
   "cell_type": "markdown",
   "id": "4d66af94",
   "metadata": {},
   "source": [
    "**Exercise 4**: Write a `sign` function that returns -1, 0, or 1 depending on the number."
   ]
  },
  {
   "cell_type": "code",
   "execution_count": null,
   "id": "75b49a10",
   "metadata": {},
   "outputs": [],
   "source": [
    "sign :: Int -> Int\n",
    "sign n \n",
    "    | n < 0 = -1\n",
    "    | n == 0 = 0\n",
    "    | otherwise = 1\n",
    "\n",
    "-- Test\n",
    "sign (-5)\n",
    "sign 0\n",
    "sign 5\n"
   ]
  },
  {
   "cell_type": "markdown",
   "id": "7e0e8594",
   "metadata": {},
   "source": [
    "**Exercise 5**: Write an `absolute` function using guards and patterns."
   ]
  },
  {
   "cell_type": "code",
   "execution_count": null,
   "id": "8471cf0c",
   "metadata": {},
   "outputs": [],
   "source": [
    "absolute :: Int -> Int\n",
    "absolute n \n",
    "    | n < 0 = -n\n",
    "    | otherwise = n\n",
    "\n",
    "-- Test\n",
    "absolute (-7)\n",
    "absolute 5\n",
    "absolute 0\n"
   ]
  },
  {
   "cell_type": "markdown",
   "id": "67e2aceb",
   "metadata": {},
   "source": [
    "**Exercise 6**: Create a `leapYear` function to calculate leap years."
   ]
  },
  {
   "cell_type": "code",
   "execution_count": null,
   "id": "0c3d9cee",
   "metadata": {},
   "outputs": [],
   "source": [
    "leapYear :: Int -> String\n",
    "leapYear year \n",
    "    | (year `mod` 400 == 0) = show year ++ \" was a leap year\"\n",
    "    | (year `mod` 100 == 0) = show year ++ \" was not a leap year\"\n",
    "    | (year `mod` 4 == 0) = show year ++ \" was a leap year\"\n",
    "    | otherwise = show year ++ \" was not a leap year\"\n",
    "\n",
    "-- Test\n",
    "leapYear 1901\n",
    "leapYear 2016\n",
    "leapYear 2400\n",
    "leapYear 2401\n",
    "leapYear 2022\n"
   ]
  },
  {
   "cell_type": "markdown",
   "id": "3780d195",
   "metadata": {},
   "source": [
    "**Exercise 7**: Create a `calculator` function to simulate a basic calculator."
   ]
  },
  {
   "cell_type": "code",
   "execution_count": null,
   "id": "4ba882d0",
   "metadata": {},
   "outputs": [],
   "source": [
    "calculator :: Int -> Int -> Char -> Int\n",
    "calculator num1 num2 operator \n",
    "    | operator == '+' = num1 + num2\n",
    "    | operator == '-' = num1 - num2\n",
    "    | operator == '*' = num1 * num2\n",
    "    | operator == '/' = div num1 num2\n",
    "    | otherwise = error \"wrong operator\"\n",
    "\n",
    "-- Test\n",
    "calculator 4 2 '+'\n",
    "calculator 4 2 '-'\n",
    "calculator 4 2 '*'\n",
    "calculator 4 2 '/'\n"
   ]
  }
 ],
 "metadata": {},
 "nbformat": 4,
 "nbformat_minor": 5
}
